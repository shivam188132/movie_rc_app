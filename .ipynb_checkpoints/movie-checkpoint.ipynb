{
 "cells": [
  {
   "cell_type": "code",
   "execution_count": 1,
   "id": "088aefbc-6fc5-4190-a3a5-767405f3e0a5",
   "metadata": {},
   "outputs": [],
   "source": [
    "import pandas as pd\n",
    "import numpy as np"
   ]
  },
  {
   "cell_type": "code",
   "execution_count": 2,
   "id": "9b4a5edd-85e8-4718-a527-59b9f23bc419",
   "metadata": {},
   "outputs": [],
   "source": [
    "movies = pd.read_csv('tmdb_5000_movies.csv')\n",
    "credits = pd.read_csv('tmdb_5000_credits.csv', low_memory=False)"
   ]
  },
  {
   "cell_type": "code",
   "execution_count": 3,
   "id": "2aaf5b14-84ab-48e4-8795-56c94cd109c7",
   "metadata": {},
   "outputs": [
    {
     "data": {
      "text/html": [
       "<div>\n",
       "<style scoped>\n",
       "    .dataframe tbody tr th:only-of-type {\n",
       "        vertical-align: middle;\n",
       "    }\n",
       "\n",
       "    .dataframe tbody tr th {\n",
       "        vertical-align: top;\n",
       "    }\n",
       "\n",
       "    .dataframe thead th {\n",
       "        text-align: right;\n",
       "    }\n",
       "</style>\n",
       "<table border=\"1\" class=\"dataframe\">\n",
       "  <thead>\n",
       "    <tr style=\"text-align: right;\">\n",
       "      <th></th>\n",
       "      <th>budget</th>\n",
       "      <th>genres</th>\n",
       "      <th>homepage</th>\n",
       "      <th>id</th>\n",
       "      <th>keywords</th>\n",
       "      <th>original_language</th>\n",
       "      <th>original_title</th>\n",
       "      <th>overview</th>\n",
       "      <th>popularity</th>\n",
       "      <th>production_companies</th>\n",
       "      <th>production_countries</th>\n",
       "      <th>release_date</th>\n",
       "      <th>revenue</th>\n",
       "      <th>runtime</th>\n",
       "      <th>spoken_languages</th>\n",
       "      <th>status</th>\n",
       "      <th>tagline</th>\n",
       "      <th>title</th>\n",
       "      <th>vote_average</th>\n",
       "      <th>vote_count</th>\n",
       "    </tr>\n",
       "  </thead>\n",
       "  <tbody>\n",
       "    <tr>\n",
       "      <th>0</th>\n",
       "      <td>237000000</td>\n",
       "      <td>[{\"id\": 28, \"name\": \"Action\"}, {\"id\": 12, \"nam...</td>\n",
       "      <td>http://www.avatarmovie.com/</td>\n",
       "      <td>19995</td>\n",
       "      <td>[{\"id\": 1463, \"name\": \"culture clash\"}, {\"id\":...</td>\n",
       "      <td>en</td>\n",
       "      <td>Avatar</td>\n",
       "      <td>In the 22nd century, a paraplegic Marine is di...</td>\n",
       "      <td>150.437577</td>\n",
       "      <td>[{\"name\": \"Ingenious Film Partners\", \"id\": 289...</td>\n",
       "      <td>[{\"iso_3166_1\": \"US\", \"name\": \"United States o...</td>\n",
       "      <td>2009-12-10</td>\n",
       "      <td>2787965087</td>\n",
       "      <td>162.0</td>\n",
       "      <td>[{\"iso_639_1\": \"en\", \"name\": \"English\"}, {\"iso...</td>\n",
       "      <td>Released</td>\n",
       "      <td>Enter the World of Pandora.</td>\n",
       "      <td>Avatar</td>\n",
       "      <td>7.2</td>\n",
       "      <td>11800</td>\n",
       "    </tr>\n",
       "  </tbody>\n",
       "</table>\n",
       "</div>"
      ],
      "text/plain": [
       "      budget                                             genres  \\\n",
       "0  237000000  [{\"id\": 28, \"name\": \"Action\"}, {\"id\": 12, \"nam...   \n",
       "\n",
       "                      homepage     id  \\\n",
       "0  http://www.avatarmovie.com/  19995   \n",
       "\n",
       "                                            keywords original_language  \\\n",
       "0  [{\"id\": 1463, \"name\": \"culture clash\"}, {\"id\":...                en   \n",
       "\n",
       "  original_title                                           overview  \\\n",
       "0         Avatar  In the 22nd century, a paraplegic Marine is di...   \n",
       "\n",
       "   popularity                               production_companies  \\\n",
       "0  150.437577  [{\"name\": \"Ingenious Film Partners\", \"id\": 289...   \n",
       "\n",
       "                                production_countries release_date     revenue  \\\n",
       "0  [{\"iso_3166_1\": \"US\", \"name\": \"United States o...   2009-12-10  2787965087   \n",
       "\n",
       "   runtime                                   spoken_languages    status  \\\n",
       "0    162.0  [{\"iso_639_1\": \"en\", \"name\": \"English\"}, {\"iso...  Released   \n",
       "\n",
       "                       tagline   title  vote_average  vote_count  \n",
       "0  Enter the World of Pandora.  Avatar           7.2       11800  "
      ]
     },
     "execution_count": 3,
     "metadata": {},
     "output_type": "execute_result"
    }
   ],
   "source": [
    "movies.head(1)"
   ]
  },
  {
   "cell_type": "code",
   "execution_count": 4,
   "id": "a4bdf895-f952-492e-b1a8-6ba5d37fb744",
   "metadata": {},
   "outputs": [
    {
     "data": {
      "text/plain": [
       "(4803, 20)"
      ]
     },
     "execution_count": 4,
     "metadata": {},
     "output_type": "execute_result"
    }
   ],
   "source": [
    "movies.shape"
   ]
  },
  {
   "cell_type": "code",
   "execution_count": 5,
   "id": "8830b821-c35d-4df5-90ae-8be7176077c9",
   "metadata": {},
   "outputs": [
    {
     "data": {
      "text/html": [
       "<div>\n",
       "<style scoped>\n",
       "    .dataframe tbody tr th:only-of-type {\n",
       "        vertical-align: middle;\n",
       "    }\n",
       "\n",
       "    .dataframe tbody tr th {\n",
       "        vertical-align: top;\n",
       "    }\n",
       "\n",
       "    .dataframe thead th {\n",
       "        text-align: right;\n",
       "    }\n",
       "</style>\n",
       "<table border=\"1\" class=\"dataframe\">\n",
       "  <thead>\n",
       "    <tr style=\"text-align: right;\">\n",
       "      <th></th>\n",
       "      <th>movie_id</th>\n",
       "      <th>title</th>\n",
       "      <th>cast</th>\n",
       "      <th>crew</th>\n",
       "      <th>Unnamed: 4</th>\n",
       "      <th>Unnamed: 5</th>\n",
       "      <th>Unnamed: 6</th>\n",
       "      <th>Unnamed: 7</th>\n",
       "      <th>Unnamed: 8</th>\n",
       "      <th>Unnamed: 9</th>\n",
       "      <th>...</th>\n",
       "      <th>Unnamed: 1255</th>\n",
       "      <th>Unnamed: 1256</th>\n",
       "      <th>Unnamed: 1257</th>\n",
       "      <th>Unnamed: 1258</th>\n",
       "      <th>Unnamed: 1259</th>\n",
       "      <th>Unnamed: 1260</th>\n",
       "      <th>Unnamed: 1261</th>\n",
       "      <th>Unnamed: 1262</th>\n",
       "      <th>Unnamed: 1263</th>\n",
       "      <th>Unnamed: 1264</th>\n",
       "    </tr>\n",
       "  </thead>\n",
       "  <tbody>\n",
       "    <tr>\n",
       "      <th>0</th>\n",
       "      <td>19995</td>\n",
       "      <td>Avatar</td>\n",
       "      <td>[{\"cast_id\": 242, \"character\": \"Jake Sully\", \"...</td>\n",
       "      <td>[{\"credit_id\": \"52fe48009251416c750aca23\", \"de...</td>\n",
       "      <td>NaN</td>\n",
       "      <td>NaN</td>\n",
       "      <td>NaN</td>\n",
       "      <td>NaN</td>\n",
       "      <td>NaN</td>\n",
       "      <td>NaN</td>\n",
       "      <td>...</td>\n",
       "      <td>NaN</td>\n",
       "      <td>NaN</td>\n",
       "      <td>NaN</td>\n",
       "      <td>NaN</td>\n",
       "      <td>NaN</td>\n",
       "      <td>NaN</td>\n",
       "      <td>NaN</td>\n",
       "      <td>NaN</td>\n",
       "      <td>NaN</td>\n",
       "      <td>NaN</td>\n",
       "    </tr>\n",
       "  </tbody>\n",
       "</table>\n",
       "<p>1 rows × 1265 columns</p>\n",
       "</div>"
      ],
      "text/plain": [
       "  movie_id   title                                               cast  \\\n",
       "0    19995  Avatar  [{\"cast_id\": 242, \"character\": \"Jake Sully\", \"...   \n",
       "\n",
       "                                                crew Unnamed: 4 Unnamed: 5  \\\n",
       "0  [{\"credit_id\": \"52fe48009251416c750aca23\", \"de...        NaN        NaN   \n",
       "\n",
       "  Unnamed: 6 Unnamed: 7 Unnamed: 8 Unnamed: 9  ... Unnamed: 1255  \\\n",
       "0        NaN        NaN        NaN        NaN  ...           NaN   \n",
       "\n",
       "  Unnamed: 1256 Unnamed: 1257 Unnamed: 1258 Unnamed: 1259 Unnamed: 1260  \\\n",
       "0           NaN           NaN           NaN           NaN           NaN   \n",
       "\n",
       "  Unnamed: 1261 Unnamed: 1262 Unnamed: 1263 Unnamed: 1264  \n",
       "0           NaN           NaN           NaN           NaN  \n",
       "\n",
       "[1 rows x 1265 columns]"
      ]
     },
     "execution_count": 5,
     "metadata": {},
     "output_type": "execute_result"
    }
   ],
   "source": [
    "credits.head(1)"
   ]
  },
  {
   "cell_type": "code",
   "execution_count": 6,
   "id": "c766705f-2355-46c8-95f3-609c3203f50d",
   "metadata": {},
   "outputs": [
    {
     "data": {
      "text/plain": [
       "(4813, 1265)"
      ]
     },
     "execution_count": 6,
     "metadata": {},
     "output_type": "execute_result"
    }
   ],
   "source": [
    "credits.shape"
   ]
  },
  {
   "cell_type": "markdown",
   "id": "03455df0-0e30-4949-9ae4-2e2b21d12f09",
   "metadata": {},
   "source": [
    "removing unnessary columns"
   ]
  },
  {
   "cell_type": "code",
   "execution_count": 7,
   "id": "4295bbf9-4be7-440d-b4c5-beedc34d1aff",
   "metadata": {},
   "outputs": [],
   "source": [
    "credits = credits.iloc[:, :4]"
   ]
  },
  {
   "cell_type": "code",
   "execution_count": 8,
   "id": "c24116d4-02df-4529-bb4b-12702f715a47",
   "metadata": {},
   "outputs": [
    {
     "data": {
      "text/plain": [
       "(4813, 4)"
      ]
     },
     "execution_count": 8,
     "metadata": {},
     "output_type": "execute_result"
    }
   ],
   "source": [
    "credits.shape"
   ]
  },
  {
   "cell_type": "code",
   "execution_count": 9,
   "id": "b232a461-7030-4fca-94db-f5aa7e58699b",
   "metadata": {},
   "outputs": [
    {
     "data": {
      "text/html": [
       "<div>\n",
       "<style scoped>\n",
       "    .dataframe tbody tr th:only-of-type {\n",
       "        vertical-align: middle;\n",
       "    }\n",
       "\n",
       "    .dataframe tbody tr th {\n",
       "        vertical-align: top;\n",
       "    }\n",
       "\n",
       "    .dataframe thead th {\n",
       "        text-align: right;\n",
       "    }\n",
       "</style>\n",
       "<table border=\"1\" class=\"dataframe\">\n",
       "  <thead>\n",
       "    <tr style=\"text-align: right;\">\n",
       "      <th></th>\n",
       "      <th>movie_id</th>\n",
       "      <th>title</th>\n",
       "      <th>cast</th>\n",
       "      <th>crew</th>\n",
       "    </tr>\n",
       "  </thead>\n",
       "  <tbody>\n",
       "    <tr>\n",
       "      <th>0</th>\n",
       "      <td>19995</td>\n",
       "      <td>Avatar</td>\n",
       "      <td>[{\"cast_id\": 242, \"character\": \"Jake Sully\", \"...</td>\n",
       "      <td>[{\"credit_id\": \"52fe48009251416c750aca23\", \"de...</td>\n",
       "    </tr>\n",
       "  </tbody>\n",
       "</table>\n",
       "</div>"
      ],
      "text/plain": [
       "  movie_id   title                                               cast  \\\n",
       "0    19995  Avatar  [{\"cast_id\": 242, \"character\": \"Jake Sully\", \"...   \n",
       "\n",
       "                                                crew  \n",
       "0  [{\"credit_id\": \"52fe48009251416c750aca23\", \"de...  "
      ]
     },
     "execution_count": 9,
     "metadata": {},
     "output_type": "execute_result"
    }
   ],
   "source": [
    "credits.head(1)"
   ]
  },
  {
   "cell_type": "markdown",
   "id": "4e07d60d-19ea-43f2-908b-8eca32bd130a",
   "metadata": {},
   "source": [
    "joining movies and credits on the basis of title "
   ]
  },
  {
   "cell_type": "code",
   "execution_count": 10,
   "id": "f7db65d9-968f-4ebe-ad0c-f52c7469f336",
   "metadata": {},
   "outputs": [],
   "source": [
    "movies = movies.merge(credits, on='title')"
   ]
  },
  {
   "cell_type": "code",
   "execution_count": 11,
   "id": "527d9330-2560-40e9-bbf2-e48e8be0f7ed",
   "metadata": {},
   "outputs": [
    {
     "data": {
      "text/plain": [
       "(4808, 23)"
      ]
     },
     "execution_count": 11,
     "metadata": {},
     "output_type": "execute_result"
    }
   ],
   "source": [
    "movies.shape"
   ]
  },
  {
   "cell_type": "code",
   "execution_count": 12,
   "id": "d616c17e-6e97-4658-a2bd-3f85b7174013",
   "metadata": {},
   "outputs": [
    {
     "data": {
      "text/html": [
       "<div>\n",
       "<style scoped>\n",
       "    .dataframe tbody tr th:only-of-type {\n",
       "        vertical-align: middle;\n",
       "    }\n",
       "\n",
       "    .dataframe tbody tr th {\n",
       "        vertical-align: top;\n",
       "    }\n",
       "\n",
       "    .dataframe thead th {\n",
       "        text-align: right;\n",
       "    }\n",
       "</style>\n",
       "<table border=\"1\" class=\"dataframe\">\n",
       "  <thead>\n",
       "    <tr style=\"text-align: right;\">\n",
       "      <th></th>\n",
       "      <th>budget</th>\n",
       "      <th>genres</th>\n",
       "      <th>homepage</th>\n",
       "      <th>id</th>\n",
       "      <th>keywords</th>\n",
       "      <th>original_language</th>\n",
       "      <th>original_title</th>\n",
       "      <th>overview</th>\n",
       "      <th>popularity</th>\n",
       "      <th>production_companies</th>\n",
       "      <th>...</th>\n",
       "      <th>runtime</th>\n",
       "      <th>spoken_languages</th>\n",
       "      <th>status</th>\n",
       "      <th>tagline</th>\n",
       "      <th>title</th>\n",
       "      <th>vote_average</th>\n",
       "      <th>vote_count</th>\n",
       "      <th>movie_id</th>\n",
       "      <th>cast</th>\n",
       "      <th>crew</th>\n",
       "    </tr>\n",
       "  </thead>\n",
       "  <tbody>\n",
       "    <tr>\n",
       "      <th>0</th>\n",
       "      <td>237000000</td>\n",
       "      <td>[{\"id\": 28, \"name\": \"Action\"}, {\"id\": 12, \"nam...</td>\n",
       "      <td>http://www.avatarmovie.com/</td>\n",
       "      <td>19995</td>\n",
       "      <td>[{\"id\": 1463, \"name\": \"culture clash\"}, {\"id\":...</td>\n",
       "      <td>en</td>\n",
       "      <td>Avatar</td>\n",
       "      <td>In the 22nd century, a paraplegic Marine is di...</td>\n",
       "      <td>150.437577</td>\n",
       "      <td>[{\"name\": \"Ingenious Film Partners\", \"id\": 289...</td>\n",
       "      <td>...</td>\n",
       "      <td>162.0</td>\n",
       "      <td>[{\"iso_639_1\": \"en\", \"name\": \"English\"}, {\"iso...</td>\n",
       "      <td>Released</td>\n",
       "      <td>Enter the World of Pandora.</td>\n",
       "      <td>Avatar</td>\n",
       "      <td>7.2</td>\n",
       "      <td>11800</td>\n",
       "      <td>19995</td>\n",
       "      <td>[{\"cast_id\": 242, \"character\": \"Jake Sully\", \"...</td>\n",
       "      <td>[{\"credit_id\": \"52fe48009251416c750aca23\", \"de...</td>\n",
       "    </tr>\n",
       "  </tbody>\n",
       "</table>\n",
       "<p>1 rows × 23 columns</p>\n",
       "</div>"
      ],
      "text/plain": [
       "      budget                                             genres  \\\n",
       "0  237000000  [{\"id\": 28, \"name\": \"Action\"}, {\"id\": 12, \"nam...   \n",
       "\n",
       "                      homepage     id  \\\n",
       "0  http://www.avatarmovie.com/  19995   \n",
       "\n",
       "                                            keywords original_language  \\\n",
       "0  [{\"id\": 1463, \"name\": \"culture clash\"}, {\"id\":...                en   \n",
       "\n",
       "  original_title                                           overview  \\\n",
       "0         Avatar  In the 22nd century, a paraplegic Marine is di...   \n",
       "\n",
       "   popularity                               production_companies  ... runtime  \\\n",
       "0  150.437577  [{\"name\": \"Ingenious Film Partners\", \"id\": 289...  ...   162.0   \n",
       "\n",
       "                                    spoken_languages    status  \\\n",
       "0  [{\"iso_639_1\": \"en\", \"name\": \"English\"}, {\"iso...  Released   \n",
       "\n",
       "                       tagline   title vote_average vote_count movie_id  \\\n",
       "0  Enter the World of Pandora.  Avatar          7.2      11800    19995   \n",
       "\n",
       "                                                cast  \\\n",
       "0  [{\"cast_id\": 242, \"character\": \"Jake Sully\", \"...   \n",
       "\n",
       "                                                crew  \n",
       "0  [{\"credit_id\": \"52fe48009251416c750aca23\", \"de...  \n",
       "\n",
       "[1 rows x 23 columns]"
      ]
     },
     "execution_count": 12,
     "metadata": {},
     "output_type": "execute_result"
    }
   ],
   "source": [
    "m = movies.head(1)\n",
    "m"
   ]
  },
  {
   "cell_type": "code",
   "execution_count": 13,
   "id": "e1dcb5b8-cb99-4526-9332-a64f2d1db2f3",
   "metadata": {},
   "outputs": [
    {
     "data": {
      "text/plain": [
       "array(['[{\"id\": 1463, \"name\": \"culture clash\"}, {\"id\": 2964, \"name\": \"future\"}, {\"id\": 3386, \"name\": \"space war\"}, {\"id\": 3388, \"name\": \"space colony\"}, {\"id\": 3679, \"name\": \"society\"}, {\"id\": 3801, \"name\": \"space travel\"}, {\"id\": 9685, \"name\": \"futuristic\"}, {\"id\": 9840, \"name\": \"romance\"}, {\"id\": 9882, \"name\": \"space\"}, {\"id\": 9951, \"name\": \"alien\"}, {\"id\": 10148, \"name\": \"tribe\"}, {\"id\": 10158, \"name\": \"alien planet\"}, {\"id\": 10987, \"name\": \"cgi\"}, {\"id\": 11399, \"name\": \"marine\"}, {\"id\": 13065, \"name\": \"soldier\"}, {\"id\": 14643, \"name\": \"battle\"}, {\"id\": 14720, \"name\": \"love affair\"}, {\"id\": 165431, \"name\": \"anti war\"}, {\"id\": 193554, \"name\": \"power relations\"}, {\"id\": 206690, \"name\": \"mind and soul\"}, {\"id\": 209714, \"name\": \"3d\"}]'],\n",
       "      dtype=object)"
      ]
     },
     "execution_count": 13,
     "metadata": {},
     "output_type": "execute_result"
    }
   ],
   "source": [
    "m['keywords'].values"
   ]
  },
  {
   "cell_type": "code",
   "execution_count": 14,
   "id": "61bb1def-ee26-47cb-a563-882bf65fcca4",
   "metadata": {},
   "outputs": [
    {
     "data": {
      "text/plain": [
       "original_language\n",
       "en    4509\n",
       "fr      70\n",
       "es      32\n",
       "zh      27\n",
       "de      27\n",
       "hi      19\n",
       "ja      16\n",
       "it      14\n",
       "ko      12\n",
       "cn      12\n",
       "ru      11\n",
       "pt       9\n",
       "da       7\n",
       "sv       5\n",
       "nl       4\n",
       "fa       4\n",
       "th       3\n",
       "he       3\n",
       "ta       2\n",
       "cs       2\n",
       "ro       2\n",
       "id       2\n",
       "ar       2\n",
       "vi       1\n",
       "sl       1\n",
       "ps       1\n",
       "no       1\n",
       "ky       1\n",
       "hu       1\n",
       "pl       1\n",
       "af       1\n",
       "nb       1\n",
       "tr       1\n",
       "is       1\n",
       "xx       1\n",
       "te       1\n",
       "el       1\n",
       "Name: count, dtype: int64"
      ]
     },
     "execution_count": 14,
     "metadata": {},
     "output_type": "execute_result"
    }
   ],
   "source": [
    "movies['original_language'].value_counts()"
   ]
  },
  {
   "cell_type": "markdown",
   "id": "1a8c43ae-28ef-4bf9-a5ba-ba786a21951c",
   "metadata": {},
   "source": [
    "english language is most preffered"
   ]
  },
  {
   "cell_type": "markdown",
   "id": "1c3d07a6-2de8-4d8c-b816-1c216a4c2e45",
   "metadata": {},
   "source": [
    "### now we will select only those columns which will help in a good recomedation prediction."
   ]
  },
  {
   "cell_type": "code",
   "execution_count": 15,
   "id": "f3f5c2b1-fd8d-40b1-80dd-c4ba6d051388",
   "metadata": {},
   "outputs": [
    {
     "name": "stdout",
     "output_type": "stream",
     "text": [
      "<class 'pandas.core.frame.DataFrame'>\n",
      "RangeIndex: 4808 entries, 0 to 4807\n",
      "Data columns (total 23 columns):\n",
      " #   Column                Non-Null Count  Dtype  \n",
      "---  ------                --------------  -----  \n",
      " 0   budget                4808 non-null   int64  \n",
      " 1   genres                4808 non-null   object \n",
      " 2   homepage              1713 non-null   object \n",
      " 3   id                    4808 non-null   int64  \n",
      " 4   keywords              4808 non-null   object \n",
      " 5   original_language     4808 non-null   object \n",
      " 6   original_title        4808 non-null   object \n",
      " 7   overview              4805 non-null   object \n",
      " 8   popularity            4808 non-null   float64\n",
      " 9   production_companies  4808 non-null   object \n",
      " 10  production_countries  4808 non-null   object \n",
      " 11  release_date          4807 non-null   object \n",
      " 12  revenue               4808 non-null   int64  \n",
      " 13  runtime               4806 non-null   float64\n",
      " 14  spoken_languages      4808 non-null   object \n",
      " 15  status                4808 non-null   object \n",
      " 16  tagline               3964 non-null   object \n",
      " 17  title                 4808 non-null   object \n",
      " 18  vote_average          4808 non-null   float64\n",
      " 19  vote_count            4808 non-null   int64  \n",
      " 20  movie_id              4808 non-null   object \n",
      " 21  cast                  4808 non-null   object \n",
      " 22  crew                  4804 non-null   object \n",
      "dtypes: float64(3), int64(4), object(16)\n",
      "memory usage: 864.1+ KB\n"
     ]
    }
   ],
   "source": [
    "movies.info()"
   ]
  },
  {
   "cell_type": "raw",
   "id": "698e4c0e-1e87-4f71-8982-fb0d738ebf8c",
   "metadata": {},
   "source": [
    "genre,id,keywords, original_title, overview, title, cast ,crew"
   ]
  },
  {
   "cell_type": "code",
   "execution_count": 16,
   "id": "56828838-f434-4594-8a48-ae3c9c1feb8d",
   "metadata": {},
   "outputs": [],
   "source": [
    "movies = movies[['id', 'title', 'genres','keywords', 'overview', 'cast', 'crew']]"
   ]
  },
  {
   "cell_type": "code",
   "execution_count": 17,
   "id": "ca3d0a0a-dfc4-4151-8beb-ceaa3e4e3a43",
   "metadata": {},
   "outputs": [
    {
     "data": {
      "text/html": [
       "<div>\n",
       "<style scoped>\n",
       "    .dataframe tbody tr th:only-of-type {\n",
       "        vertical-align: middle;\n",
       "    }\n",
       "\n",
       "    .dataframe tbody tr th {\n",
       "        vertical-align: top;\n",
       "    }\n",
       "\n",
       "    .dataframe thead th {\n",
       "        text-align: right;\n",
       "    }\n",
       "</style>\n",
       "<table border=\"1\" class=\"dataframe\">\n",
       "  <thead>\n",
       "    <tr style=\"text-align: right;\">\n",
       "      <th></th>\n",
       "      <th>id</th>\n",
       "      <th>title</th>\n",
       "      <th>genres</th>\n",
       "      <th>keywords</th>\n",
       "      <th>overview</th>\n",
       "      <th>cast</th>\n",
       "      <th>crew</th>\n",
       "    </tr>\n",
       "  </thead>\n",
       "  <tbody>\n",
       "    <tr>\n",
       "      <th>0</th>\n",
       "      <td>19995</td>\n",
       "      <td>Avatar</td>\n",
       "      <td>[{\"id\": 28, \"name\": \"Action\"}, {\"id\": 12, \"nam...</td>\n",
       "      <td>[{\"id\": 1463, \"name\": \"culture clash\"}, {\"id\":...</td>\n",
       "      <td>In the 22nd century, a paraplegic Marine is di...</td>\n",
       "      <td>[{\"cast_id\": 242, \"character\": \"Jake Sully\", \"...</td>\n",
       "      <td>[{\"credit_id\": \"52fe48009251416c750aca23\", \"de...</td>\n",
       "    </tr>\n",
       "    <tr>\n",
       "      <th>1</th>\n",
       "      <td>285</td>\n",
       "      <td>Pirates of the Caribbean: At World's End</td>\n",
       "      <td>[{\"id\": 12, \"name\": \"Adventure\"}, {\"id\": 14, \"...</td>\n",
       "      <td>[{\"id\": 270, \"name\": \"ocean\"}, {\"id\": 726, \"na...</td>\n",
       "      <td>Captain Barbossa, long believed to be dead, ha...</td>\n",
       "      <td>[{\"cast_id\": 4, \"character\": \"Captain Jack Spa...</td>\n",
       "      <td>[{\"credit_id\": \"52fe4232c3a36847f800b579\", \"de...</td>\n",
       "    </tr>\n",
       "    <tr>\n",
       "      <th>2</th>\n",
       "      <td>206647</td>\n",
       "      <td>Spectre</td>\n",
       "      <td>[{\"id\": 28, \"name\": \"Action\"}, {\"id\": 12, \"nam...</td>\n",
       "      <td>[{\"id\": 470, \"name\": \"spy\"}, {\"id\": 818, \"name...</td>\n",
       "      <td>A cryptic message from Bond’s past sends him o...</td>\n",
       "      <td>[{\"cast_id\": 1, \"character\": \"James Bond\", \"cr...</td>\n",
       "      <td>[{\"credit_id\": \"54805967c3a36829b5002c41\", \"de...</td>\n",
       "    </tr>\n",
       "    <tr>\n",
       "      <th>3</th>\n",
       "      <td>49026</td>\n",
       "      <td>The Dark Knight Rises</td>\n",
       "      <td>[{\"id\": 28, \"name\": \"Action\"}, {\"id\": 80, \"nam...</td>\n",
       "      <td>[{\"id\": 849, \"name\": \"dc comics\"}, {\"id\": 853,...</td>\n",
       "      <td>Following the death of District Attorney Harve...</td>\n",
       "      <td>[{\"cast_id\": 2, \"character\": \"Bruce Wayne / Ba...</td>\n",
       "      <td>[{\"credit_id\": \"52fe4781c3a36847f81398c3\", \"de...</td>\n",
       "    </tr>\n",
       "    <tr>\n",
       "      <th>4</th>\n",
       "      <td>49529</td>\n",
       "      <td>John Carter</td>\n",
       "      <td>[{\"id\": 28, \"name\": \"Action\"}, {\"id\": 12, \"nam...</td>\n",
       "      <td>[{\"id\": 818, \"name\": \"based on novel\"}, {\"id\":...</td>\n",
       "      <td>John Carter is a war-weary, former military ca...</td>\n",
       "      <td>[{\"cast_id\": 5, \"character\": \"John Carter\", \"c...</td>\n",
       "      <td>[{\"credit_id\": \"52fe479ac3a36847f813eaa3\", \"de...</td>\n",
       "    </tr>\n",
       "  </tbody>\n",
       "</table>\n",
       "</div>"
      ],
      "text/plain": [
       "       id                                     title  \\\n",
       "0   19995                                    Avatar   \n",
       "1     285  Pirates of the Caribbean: At World's End   \n",
       "2  206647                                   Spectre   \n",
       "3   49026                     The Dark Knight Rises   \n",
       "4   49529                               John Carter   \n",
       "\n",
       "                                              genres  \\\n",
       "0  [{\"id\": 28, \"name\": \"Action\"}, {\"id\": 12, \"nam...   \n",
       "1  [{\"id\": 12, \"name\": \"Adventure\"}, {\"id\": 14, \"...   \n",
       "2  [{\"id\": 28, \"name\": \"Action\"}, {\"id\": 12, \"nam...   \n",
       "3  [{\"id\": 28, \"name\": \"Action\"}, {\"id\": 80, \"nam...   \n",
       "4  [{\"id\": 28, \"name\": \"Action\"}, {\"id\": 12, \"nam...   \n",
       "\n",
       "                                            keywords  \\\n",
       "0  [{\"id\": 1463, \"name\": \"culture clash\"}, {\"id\":...   \n",
       "1  [{\"id\": 270, \"name\": \"ocean\"}, {\"id\": 726, \"na...   \n",
       "2  [{\"id\": 470, \"name\": \"spy\"}, {\"id\": 818, \"name...   \n",
       "3  [{\"id\": 849, \"name\": \"dc comics\"}, {\"id\": 853,...   \n",
       "4  [{\"id\": 818, \"name\": \"based on novel\"}, {\"id\":...   \n",
       "\n",
       "                                            overview  \\\n",
       "0  In the 22nd century, a paraplegic Marine is di...   \n",
       "1  Captain Barbossa, long believed to be dead, ha...   \n",
       "2  A cryptic message from Bond’s past sends him o...   \n",
       "3  Following the death of District Attorney Harve...   \n",
       "4  John Carter is a war-weary, former military ca...   \n",
       "\n",
       "                                                cast  \\\n",
       "0  [{\"cast_id\": 242, \"character\": \"Jake Sully\", \"...   \n",
       "1  [{\"cast_id\": 4, \"character\": \"Captain Jack Spa...   \n",
       "2  [{\"cast_id\": 1, \"character\": \"James Bond\", \"cr...   \n",
       "3  [{\"cast_id\": 2, \"character\": \"Bruce Wayne / Ba...   \n",
       "4  [{\"cast_id\": 5, \"character\": \"John Carter\", \"c...   \n",
       "\n",
       "                                                crew  \n",
       "0  [{\"credit_id\": \"52fe48009251416c750aca23\", \"de...  \n",
       "1  [{\"credit_id\": \"52fe4232c3a36847f800b579\", \"de...  \n",
       "2  [{\"credit_id\": \"54805967c3a36829b5002c41\", \"de...  \n",
       "3  [{\"credit_id\": \"52fe4781c3a36847f81398c3\", \"de...  \n",
       "4  [{\"credit_id\": \"52fe479ac3a36847f813eaa3\", \"de...  "
      ]
     },
     "execution_count": 17,
     "metadata": {},
     "output_type": "execute_result"
    }
   ],
   "source": [
    "movies.head()"
   ]
  },
  {
   "cell_type": "markdown",
   "id": "663639d4-4db0-44f1-84ae-64cd25b48e8a",
   "metadata": {},
   "source": [
    "### Preprocessing data "
   ]
  },
  {
   "cell_type": "code",
   "execution_count": 18,
   "id": "c0203c50-7a36-4844-b258-2a880ffdc7fe",
   "metadata": {},
   "outputs": [
    {
     "data": {
      "text/plain": [
       "id          0\n",
       "title       0\n",
       "genres      0\n",
       "keywords    0\n",
       "overview    3\n",
       "cast        0\n",
       "crew        4\n",
       "dtype: int64"
      ]
     },
     "execution_count": 18,
     "metadata": {},
     "output_type": "execute_result"
    }
   ],
   "source": [
    "movies.isnull().sum()"
   ]
  },
  {
   "cell_type": "code",
   "execution_count": 19,
   "id": "bc2e3004-08e5-41df-ac04-d369a359a2de",
   "metadata": {},
   "outputs": [],
   "source": [
    "movies.dropna(inplace=True)"
   ]
  },
  {
   "cell_type": "markdown",
   "id": "c32521df-35e2-4391-987d-3e434ea8ab45",
   "metadata": {},
   "source": [
    "No row is duplicates"
   ]
  },
  {
   "cell_type": "code",
   "execution_count": 20,
   "id": "fe6b9148-8f16-45d1-997c-7827582e7e0c",
   "metadata": {},
   "outputs": [
    {
     "data": {
      "text/plain": [
       "0"
      ]
     },
     "execution_count": 20,
     "metadata": {},
     "output_type": "execute_result"
    }
   ],
   "source": [
    "movies.duplicated().sum()"
   ]
  },
  {
   "cell_type": "code",
   "execution_count": 21,
   "id": "517c08f6-250e-4fd2-98fe-27f93a265e8d",
   "metadata": {},
   "outputs": [
    {
     "data": {
      "text/plain": [
       "'[{\"id\": 28, \"name\": \"Action\"}, {\"id\": 12, \"name\": \"Adventure\"}, {\"id\": 14, \"name\": \"Fantasy\"}, {\"id\": 878, \"name\": \"Science Fiction\"}]'"
      ]
     },
     "execution_count": 21,
     "metadata": {},
     "output_type": "execute_result"
    }
   ],
   "source": [
    "movies.iloc[0].genres"
   ]
  },
  {
   "cell_type": "markdown",
   "id": "cca962ae-65db-4627-a7b5-77ac40a30a36",
   "metadata": {},
   "source": [
    "target --> ['Action', Adventure', 'Fantasy', 'Science Fiction']"
   ]
  },
  {
   "cell_type": "code",
   "execution_count": 22,
   "id": "68df19d9-80ef-49a5-9078-ef6a91058dc6",
   "metadata": {},
   "outputs": [],
   "source": [
    "import ast\n",
    "# list is in the form of string we need to convert it to list \n",
    "def convert(text):\n",
    "    L = []\n",
    "    for i in ast.literal_eval(text):\n",
    "        L.append(i['name']) \n",
    "    return L \n",
    "movies.dropna(inplace=True)\n",
    "movies['genres'] = movies['genres'].apply(convert)\n"
   ]
  },
  {
   "cell_type": "code",
   "execution_count": 23,
   "id": "634154d6-52b1-44c2-bfc0-cd655d331c54",
   "metadata": {},
   "outputs": [
    {
     "data": {
      "text/plain": [
       "0       [Action, Adventure, Fantasy, Science Fiction]\n",
       "1                        [Adventure, Fantasy, Action]\n",
       "2                          [Action, Adventure, Crime]\n",
       "3                    [Action, Crime, Drama, Thriller]\n",
       "4                [Action, Adventure, Science Fiction]\n",
       "                            ...                      \n",
       "4803                        [Action, Crime, Thriller]\n",
       "4804                                [Comedy, Romance]\n",
       "4805               [Comedy, Drama, Romance, TV Movie]\n",
       "4806                                               []\n",
       "4807                                    [Documentary]\n",
       "Name: genres, Length: 4801, dtype: object"
      ]
     },
     "execution_count": 23,
     "metadata": {},
     "output_type": "execute_result"
    }
   ],
   "source": [
    "movies.genres"
   ]
  },
  {
   "cell_type": "code",
   "execution_count": 24,
   "id": "efab2822-ed80-4c07-b04e-6f02a1cebb05",
   "metadata": {},
   "outputs": [
    {
     "data": {
      "text/html": [
       "<div>\n",
       "<style scoped>\n",
       "    .dataframe tbody tr th:only-of-type {\n",
       "        vertical-align: middle;\n",
       "    }\n",
       "\n",
       "    .dataframe tbody tr th {\n",
       "        vertical-align: top;\n",
       "    }\n",
       "\n",
       "    .dataframe thead th {\n",
       "        text-align: right;\n",
       "    }\n",
       "</style>\n",
       "<table border=\"1\" class=\"dataframe\">\n",
       "  <thead>\n",
       "    <tr style=\"text-align: right;\">\n",
       "      <th></th>\n",
       "      <th>id</th>\n",
       "      <th>title</th>\n",
       "      <th>genres</th>\n",
       "      <th>keywords</th>\n",
       "      <th>overview</th>\n",
       "      <th>cast</th>\n",
       "      <th>crew</th>\n",
       "    </tr>\n",
       "  </thead>\n",
       "  <tbody>\n",
       "    <tr>\n",
       "      <th>0</th>\n",
       "      <td>19995</td>\n",
       "      <td>Avatar</td>\n",
       "      <td>[Action, Adventure, Fantasy, Science Fiction]</td>\n",
       "      <td>[{\"id\": 1463, \"name\": \"culture clash\"}, {\"id\":...</td>\n",
       "      <td>In the 22nd century, a paraplegic Marine is di...</td>\n",
       "      <td>[{\"cast_id\": 242, \"character\": \"Jake Sully\", \"...</td>\n",
       "      <td>[{\"credit_id\": \"52fe48009251416c750aca23\", \"de...</td>\n",
       "    </tr>\n",
       "    <tr>\n",
       "      <th>1</th>\n",
       "      <td>285</td>\n",
       "      <td>Pirates of the Caribbean: At World's End</td>\n",
       "      <td>[Adventure, Fantasy, Action]</td>\n",
       "      <td>[{\"id\": 270, \"name\": \"ocean\"}, {\"id\": 726, \"na...</td>\n",
       "      <td>Captain Barbossa, long believed to be dead, ha...</td>\n",
       "      <td>[{\"cast_id\": 4, \"character\": \"Captain Jack Spa...</td>\n",
       "      <td>[{\"credit_id\": \"52fe4232c3a36847f800b579\", \"de...</td>\n",
       "    </tr>\n",
       "    <tr>\n",
       "      <th>2</th>\n",
       "      <td>206647</td>\n",
       "      <td>Spectre</td>\n",
       "      <td>[Action, Adventure, Crime]</td>\n",
       "      <td>[{\"id\": 470, \"name\": \"spy\"}, {\"id\": 818, \"name...</td>\n",
       "      <td>A cryptic message from Bond’s past sends him o...</td>\n",
       "      <td>[{\"cast_id\": 1, \"character\": \"James Bond\", \"cr...</td>\n",
       "      <td>[{\"credit_id\": \"54805967c3a36829b5002c41\", \"de...</td>\n",
       "    </tr>\n",
       "    <tr>\n",
       "      <th>3</th>\n",
       "      <td>49026</td>\n",
       "      <td>The Dark Knight Rises</td>\n",
       "      <td>[Action, Crime, Drama, Thriller]</td>\n",
       "      <td>[{\"id\": 849, \"name\": \"dc comics\"}, {\"id\": 853,...</td>\n",
       "      <td>Following the death of District Attorney Harve...</td>\n",
       "      <td>[{\"cast_id\": 2, \"character\": \"Bruce Wayne / Ba...</td>\n",
       "      <td>[{\"credit_id\": \"52fe4781c3a36847f81398c3\", \"de...</td>\n",
       "    </tr>\n",
       "    <tr>\n",
       "      <th>4</th>\n",
       "      <td>49529</td>\n",
       "      <td>John Carter</td>\n",
       "      <td>[Action, Adventure, Science Fiction]</td>\n",
       "      <td>[{\"id\": 818, \"name\": \"based on novel\"}, {\"id\":...</td>\n",
       "      <td>John Carter is a war-weary, former military ca...</td>\n",
       "      <td>[{\"cast_id\": 5, \"character\": \"John Carter\", \"c...</td>\n",
       "      <td>[{\"credit_id\": \"52fe479ac3a36847f813eaa3\", \"de...</td>\n",
       "    </tr>\n",
       "  </tbody>\n",
       "</table>\n",
       "</div>"
      ],
      "text/plain": [
       "       id                                     title  \\\n",
       "0   19995                                    Avatar   \n",
       "1     285  Pirates of the Caribbean: At World's End   \n",
       "2  206647                                   Spectre   \n",
       "3   49026                     The Dark Knight Rises   \n",
       "4   49529                               John Carter   \n",
       "\n",
       "                                          genres  \\\n",
       "0  [Action, Adventure, Fantasy, Science Fiction]   \n",
       "1                   [Adventure, Fantasy, Action]   \n",
       "2                     [Action, Adventure, Crime]   \n",
       "3               [Action, Crime, Drama, Thriller]   \n",
       "4           [Action, Adventure, Science Fiction]   \n",
       "\n",
       "                                            keywords  \\\n",
       "0  [{\"id\": 1463, \"name\": \"culture clash\"}, {\"id\":...   \n",
       "1  [{\"id\": 270, \"name\": \"ocean\"}, {\"id\": 726, \"na...   \n",
       "2  [{\"id\": 470, \"name\": \"spy\"}, {\"id\": 818, \"name...   \n",
       "3  [{\"id\": 849, \"name\": \"dc comics\"}, {\"id\": 853,...   \n",
       "4  [{\"id\": 818, \"name\": \"based on novel\"}, {\"id\":...   \n",
       "\n",
       "                                            overview  \\\n",
       "0  In the 22nd century, a paraplegic Marine is di...   \n",
       "1  Captain Barbossa, long believed to be dead, ha...   \n",
       "2  A cryptic message from Bond’s past sends him o...   \n",
       "3  Following the death of District Attorney Harve...   \n",
       "4  John Carter is a war-weary, former military ca...   \n",
       "\n",
       "                                                cast  \\\n",
       "0  [{\"cast_id\": 242, \"character\": \"Jake Sully\", \"...   \n",
       "1  [{\"cast_id\": 4, \"character\": \"Captain Jack Spa...   \n",
       "2  [{\"cast_id\": 1, \"character\": \"James Bond\", \"cr...   \n",
       "3  [{\"cast_id\": 2, \"character\": \"Bruce Wayne / Ba...   \n",
       "4  [{\"cast_id\": 5, \"character\": \"John Carter\", \"c...   \n",
       "\n",
       "                                                crew  \n",
       "0  [{\"credit_id\": \"52fe48009251416c750aca23\", \"de...  \n",
       "1  [{\"credit_id\": \"52fe4232c3a36847f800b579\", \"de...  \n",
       "2  [{\"credit_id\": \"54805967c3a36829b5002c41\", \"de...  \n",
       "3  [{\"credit_id\": \"52fe4781c3a36847f81398c3\", \"de...  \n",
       "4  [{\"credit_id\": \"52fe479ac3a36847f813eaa3\", \"de...  "
      ]
     },
     "execution_count": 24,
     "metadata": {},
     "output_type": "execute_result"
    }
   ],
   "source": [
    "movies.head()"
   ]
  },
  {
   "cell_type": "code",
   "execution_count": 25,
   "id": "753c7a7c-c08c-4a90-a037-d48c123acac3",
   "metadata": {},
   "outputs": [],
   "source": [
    "movies['keywords'] = movies['keywords'].apply(convert)"
   ]
  },
  {
   "cell_type": "code",
   "execution_count": 26,
   "id": "83499b8c-7c39-4799-a07c-82db0c37b82b",
   "metadata": {},
   "outputs": [
    {
     "data": {
      "text/plain": [
       "0       [culture clash, future, space war, space colon...\n",
       "1       [ocean, drug abuse, exotic island, east india ...\n",
       "2       [spy, based on novel, secret agent, sequel, mi...\n",
       "3       [dc comics, crime fighter, terrorist, secret i...\n",
       "4       [based on novel, mars, medallion, space travel...\n",
       "                              ...                        \n",
       "4803    [united states–mexico barrier, legs, arms, pap...\n",
       "4804                                                   []\n",
       "4805    [date, love at first sight, narration, investi...\n",
       "4806                                                   []\n",
       "4807            [obsession, camcorder, crush, dream girl]\n",
       "Name: keywords, Length: 4801, dtype: object"
      ]
     },
     "execution_count": 26,
     "metadata": {},
     "output_type": "execute_result"
    }
   ],
   "source": [
    "movies.keywords"
   ]
  },
  {
   "cell_type": "code",
   "execution_count": 27,
   "id": "da0f8146-bb6e-4e1d-af82-404e68412c3f",
   "metadata": {},
   "outputs": [
    {
     "data": {
      "text/html": [
       "<div>\n",
       "<style scoped>\n",
       "    .dataframe tbody tr th:only-of-type {\n",
       "        vertical-align: middle;\n",
       "    }\n",
       "\n",
       "    .dataframe tbody tr th {\n",
       "        vertical-align: top;\n",
       "    }\n",
       "\n",
       "    .dataframe thead th {\n",
       "        text-align: right;\n",
       "    }\n",
       "</style>\n",
       "<table border=\"1\" class=\"dataframe\">\n",
       "  <thead>\n",
       "    <tr style=\"text-align: right;\">\n",
       "      <th></th>\n",
       "      <th>id</th>\n",
       "      <th>title</th>\n",
       "      <th>genres</th>\n",
       "      <th>keywords</th>\n",
       "      <th>overview</th>\n",
       "      <th>cast</th>\n",
       "      <th>crew</th>\n",
       "    </tr>\n",
       "  </thead>\n",
       "  <tbody>\n",
       "    <tr>\n",
       "      <th>0</th>\n",
       "      <td>19995</td>\n",
       "      <td>Avatar</td>\n",
       "      <td>[Action, Adventure, Fantasy, Science Fiction]</td>\n",
       "      <td>[culture clash, future, space war, space colon...</td>\n",
       "      <td>In the 22nd century, a paraplegic Marine is di...</td>\n",
       "      <td>[{\"cast_id\": 242, \"character\": \"Jake Sully\", \"...</td>\n",
       "      <td>[{\"credit_id\": \"52fe48009251416c750aca23\", \"de...</td>\n",
       "    </tr>\n",
       "    <tr>\n",
       "      <th>1</th>\n",
       "      <td>285</td>\n",
       "      <td>Pirates of the Caribbean: At World's End</td>\n",
       "      <td>[Adventure, Fantasy, Action]</td>\n",
       "      <td>[ocean, drug abuse, exotic island, east india ...</td>\n",
       "      <td>Captain Barbossa, long believed to be dead, ha...</td>\n",
       "      <td>[{\"cast_id\": 4, \"character\": \"Captain Jack Spa...</td>\n",
       "      <td>[{\"credit_id\": \"52fe4232c3a36847f800b579\", \"de...</td>\n",
       "    </tr>\n",
       "    <tr>\n",
       "      <th>2</th>\n",
       "      <td>206647</td>\n",
       "      <td>Spectre</td>\n",
       "      <td>[Action, Adventure, Crime]</td>\n",
       "      <td>[spy, based on novel, secret agent, sequel, mi...</td>\n",
       "      <td>A cryptic message from Bond’s past sends him o...</td>\n",
       "      <td>[{\"cast_id\": 1, \"character\": \"James Bond\", \"cr...</td>\n",
       "      <td>[{\"credit_id\": \"54805967c3a36829b5002c41\", \"de...</td>\n",
       "    </tr>\n",
       "    <tr>\n",
       "      <th>3</th>\n",
       "      <td>49026</td>\n",
       "      <td>The Dark Knight Rises</td>\n",
       "      <td>[Action, Crime, Drama, Thriller]</td>\n",
       "      <td>[dc comics, crime fighter, terrorist, secret i...</td>\n",
       "      <td>Following the death of District Attorney Harve...</td>\n",
       "      <td>[{\"cast_id\": 2, \"character\": \"Bruce Wayne / Ba...</td>\n",
       "      <td>[{\"credit_id\": \"52fe4781c3a36847f81398c3\", \"de...</td>\n",
       "    </tr>\n",
       "    <tr>\n",
       "      <th>4</th>\n",
       "      <td>49529</td>\n",
       "      <td>John Carter</td>\n",
       "      <td>[Action, Adventure, Science Fiction]</td>\n",
       "      <td>[based on novel, mars, medallion, space travel...</td>\n",
       "      <td>John Carter is a war-weary, former military ca...</td>\n",
       "      <td>[{\"cast_id\": 5, \"character\": \"John Carter\", \"c...</td>\n",
       "      <td>[{\"credit_id\": \"52fe479ac3a36847f813eaa3\", \"de...</td>\n",
       "    </tr>\n",
       "  </tbody>\n",
       "</table>\n",
       "</div>"
      ],
      "text/plain": [
       "       id                                     title  \\\n",
       "0   19995                                    Avatar   \n",
       "1     285  Pirates of the Caribbean: At World's End   \n",
       "2  206647                                   Spectre   \n",
       "3   49026                     The Dark Knight Rises   \n",
       "4   49529                               John Carter   \n",
       "\n",
       "                                          genres  \\\n",
       "0  [Action, Adventure, Fantasy, Science Fiction]   \n",
       "1                   [Adventure, Fantasy, Action]   \n",
       "2                     [Action, Adventure, Crime]   \n",
       "3               [Action, Crime, Drama, Thriller]   \n",
       "4           [Action, Adventure, Science Fiction]   \n",
       "\n",
       "                                            keywords  \\\n",
       "0  [culture clash, future, space war, space colon...   \n",
       "1  [ocean, drug abuse, exotic island, east india ...   \n",
       "2  [spy, based on novel, secret agent, sequel, mi...   \n",
       "3  [dc comics, crime fighter, terrorist, secret i...   \n",
       "4  [based on novel, mars, medallion, space travel...   \n",
       "\n",
       "                                            overview  \\\n",
       "0  In the 22nd century, a paraplegic Marine is di...   \n",
       "1  Captain Barbossa, long believed to be dead, ha...   \n",
       "2  A cryptic message from Bond’s past sends him o...   \n",
       "3  Following the death of District Attorney Harve...   \n",
       "4  John Carter is a war-weary, former military ca...   \n",
       "\n",
       "                                                cast  \\\n",
       "0  [{\"cast_id\": 242, \"character\": \"Jake Sully\", \"...   \n",
       "1  [{\"cast_id\": 4, \"character\": \"Captain Jack Spa...   \n",
       "2  [{\"cast_id\": 1, \"character\": \"James Bond\", \"cr...   \n",
       "3  [{\"cast_id\": 2, \"character\": \"Bruce Wayne / Ba...   \n",
       "4  [{\"cast_id\": 5, \"character\": \"John Carter\", \"c...   \n",
       "\n",
       "                                                crew  \n",
       "0  [{\"credit_id\": \"52fe48009251416c750aca23\", \"de...  \n",
       "1  [{\"credit_id\": \"52fe4232c3a36847f800b579\", \"de...  \n",
       "2  [{\"credit_id\": \"54805967c3a36829b5002c41\", \"de...  \n",
       "3  [{\"credit_id\": \"52fe4781c3a36847f81398c3\", \"de...  \n",
       "4  [{\"credit_id\": \"52fe479ac3a36847f813eaa3\", \"de...  "
      ]
     },
     "execution_count": 27,
     "metadata": {},
     "output_type": "execute_result"
    }
   ],
   "source": [
    "movies.head()"
   ]
  },
  {
   "cell_type": "code",
   "execution_count": 28,
   "id": "8236c661-c859-4617-9628-73f47d83b7f0",
   "metadata": {},
   "outputs": [
    {
     "data": {
      "text/plain": [
       "'[{\"cast_id\": 242, \"character\": \"Jake Sully\", \"credit_id\": \"5602a8a7c3a3685532001c9a\", \"gender\": 2, \"id\": 65731, \"name\": \"Sam Worthington\", \"order\": 0}, {\"cast_id\": 3, \"character\": \"Neytiri\", \"credit_id\": \"52fe48009251416c750ac9cb\", \"gender\": 1, \"id\": 8691, \"name\": \"Zoe Saldana\", \"order\": 1}, {\"cast_id\": 25, \"character\": \"Dr. Grace Augustine\", \"credit_id\": \"52fe48009251416c750aca39\", \"gender\": 1, \"id\": 10205, \"name\": \"Sigourney Weaver\", \"order\": 2}, {\"cast_id\": 4, \"character\": \"Col. Quaritch\", \"credit_id\": \"52fe48009251416c750ac9cf\", \"gender\": 2, \"id\": 32747, \"name\": \"Stephen Lang\", \"order\": 3}, {\"cast_id\": 5, \"character\": \"Trudy Chacon\", \"credit_id\": \"52fe48009251416c750ac9d3\", \"gender\": 1, \"id\": 17647, \"name\": \"Michelle Rodriguez\", \"order\": 4}, {\"cast_id\": 8, \"character\": \"Selfridge\", \"credit_id\": \"52fe48009251416c750ac9e1\", \"gender\": 2, \"id\": 1771, \"name\": \"Giovanni Ribisi\", \"order\": 5}, {\"cast_id\": 7, \"character\": \"Norm Spellman\", \"credit_id\": \"52fe48009251416c750ac9dd\", \"gender\": 2, \"id\": 59231, \"name\": \"Joel David Moore\", \"order\": 6}, {\"cast_id\": 9, \"character\": \"Moat\", \"credit_id\": \"52fe48009251416c750ac9e5\", \"gender\": 1, \"id\": 30485, \"name\": \"CCH Pounder\", \"order\": 7}, {\"cast_id\": 11, \"character\": \"Eytukan\", \"credit_id\": \"52fe48009251416c750ac9ed\", \"gender\": 2, \"id\": 15853, \"name\": \"Wes Studi\", \"order\": 8}, {\"cast_id\": 10, \"character\": \"Tsu\\'Tey\", \"credit_id\": \"52fe48009251416c750ac9e9\", \"gender\": 2, \"id\": 10964, \"name\": \"Laz Alonso\", \"order\": 9}, {\"cast_id\": 12, \"character\": \"Dr. Max Patel\", \"credit_id\": \"52fe48009251416c750ac9f1\", \"gender\": 2, \"id\": 95697, \"name\": \"Dileep Rao\", \"order\": 10}, {\"cast_id\": 13, \"character\": \"Lyle Wainfleet\", \"credit_id\": \"52fe48009251416c750ac9f5\", \"gender\": 2, \"id\": 98215, \"name\": \"Matt Gerald\", \"order\": 11}, {\"cast_id\": 32, \"character\": \"Private Fike\", \"credit_id\": \"52fe48009251416c750aca5b\", \"gender\": 2, \"id\": 154153, \"name\": \"Sean Anthony Moran\", \"order\": 12}, {\"cast_id\": 33, \"character\": \"Cryo Vault Med Tech\", \"credit_id\": \"52fe48009251416c750aca5f\", \"gender\": 2, \"id\": 397312, \"name\": \"Jason Whyte\", \"order\": 13}, {\"cast_id\": 34, \"character\": \"Venture Star Crew Chief\", \"credit_id\": \"52fe48009251416c750aca63\", \"gender\": 2, \"id\": 42317, \"name\": \"Scott Lawrence\", \"order\": 14}, {\"cast_id\": 35, \"character\": \"Lock Up Trooper\", \"credit_id\": \"52fe48009251416c750aca67\", \"gender\": 2, \"id\": 986734, \"name\": \"Kelly Kilgour\", \"order\": 15}, {\"cast_id\": 36, \"character\": \"Shuttle Pilot\", \"credit_id\": \"52fe48009251416c750aca6b\", \"gender\": 0, \"id\": 1207227, \"name\": \"James Patrick Pitt\", \"order\": 16}, {\"cast_id\": 37, \"character\": \"Shuttle Co-Pilot\", \"credit_id\": \"52fe48009251416c750aca6f\", \"gender\": 0, \"id\": 1180936, \"name\": \"Sean Patrick Murphy\", \"order\": 17}, {\"cast_id\": 38, \"character\": \"Shuttle Crew Chief\", \"credit_id\": \"52fe48009251416c750aca73\", \"gender\": 2, \"id\": 1019578, \"name\": \"Peter Dillon\", \"order\": 18}, {\"cast_id\": 39, \"character\": \"Tractor Operator / Troupe\", \"credit_id\": \"52fe48009251416c750aca77\", \"gender\": 0, \"id\": 91443, \"name\": \"Kevin Dorman\", \"order\": 19}, {\"cast_id\": 40, \"character\": \"Dragon Gunship Pilot\", \"credit_id\": \"52fe48009251416c750aca7b\", \"gender\": 2, \"id\": 173391, \"name\": \"Kelson Henderson\", \"order\": 20}, {\"cast_id\": 41, \"character\": \"Dragon Gunship Gunner\", \"credit_id\": \"52fe48009251416c750aca7f\", \"gender\": 0, \"id\": 1207236, \"name\": \"David Van Horn\", \"order\": 21}, {\"cast_id\": 42, \"character\": \"Dragon Gunship Navigator\", \"credit_id\": \"52fe48009251416c750aca83\", \"gender\": 0, \"id\": 215913, \"name\": \"Jacob Tomuri\", \"order\": 22}, {\"cast_id\": 43, \"character\": \"Suit #1\", \"credit_id\": \"52fe48009251416c750aca87\", \"gender\": 0, \"id\": 143206, \"name\": \"Michael Blain-Rozgay\", \"order\": 23}, {\"cast_id\": 44, \"character\": \"Suit #2\", \"credit_id\": \"52fe48009251416c750aca8b\", \"gender\": 2, \"id\": 169676, \"name\": \"Jon Curry\", \"order\": 24}, {\"cast_id\": 46, \"character\": \"Ambient Room Tech\", \"credit_id\": \"52fe48009251416c750aca8f\", \"gender\": 0, \"id\": 1048610, \"name\": \"Luke Hawker\", \"order\": 25}, {\"cast_id\": 47, \"character\": \"Ambient Room Tech / Troupe\", \"credit_id\": \"52fe48009251416c750aca93\", \"gender\": 0, \"id\": 42288, \"name\": \"Woody Schultz\", \"order\": 26}, {\"cast_id\": 48, \"character\": \"Horse Clan Leader\", \"credit_id\": \"52fe48009251416c750aca97\", \"gender\": 2, \"id\": 68278, \"name\": \"Peter Mensah\", \"order\": 27}, {\"cast_id\": 49, \"character\": \"Link Room Tech\", \"credit_id\": \"52fe48009251416c750aca9b\", \"gender\": 0, \"id\": 1207247, \"name\": \"Sonia Yee\", \"order\": 28}, {\"cast_id\": 50, \"character\": \"Basketball Avatar / Troupe\", \"credit_id\": \"52fe48009251416c750aca9f\", \"gender\": 1, \"id\": 1207248, \"name\": \"Jahnel Curfman\", \"order\": 29}, {\"cast_id\": 51, \"character\": \"Basketball Avatar\", \"credit_id\": \"52fe48009251416c750acaa3\", \"gender\": 0, \"id\": 89714, \"name\": \"Ilram Choi\", \"order\": 30}, {\"cast_id\": 52, \"character\": \"Na\\'vi Child\", \"credit_id\": \"52fe48009251416c750acaa7\", \"gender\": 0, \"id\": 1207249, \"name\": \"Kyla Warren\", \"order\": 31}, {\"cast_id\": 53, \"character\": \"Troupe\", \"credit_id\": \"52fe48009251416c750acaab\", \"gender\": 0, \"id\": 1207250, \"name\": \"Lisa Roumain\", \"order\": 32}, {\"cast_id\": 54, \"character\": \"Troupe\", \"credit_id\": \"52fe48009251416c750acaaf\", \"gender\": 1, \"id\": 83105, \"name\": \"Debra Wilson\", \"order\": 33}, {\"cast_id\": 57, \"character\": \"Troupe\", \"credit_id\": \"52fe48009251416c750acabb\", \"gender\": 0, \"id\": 1207253, \"name\": \"Chris Mala\", \"order\": 34}, {\"cast_id\": 55, \"character\": \"Troupe\", \"credit_id\": \"52fe48009251416c750acab3\", \"gender\": 0, \"id\": 1207251, \"name\": \"Taylor Kibby\", \"order\": 35}, {\"cast_id\": 56, \"character\": \"Troupe\", \"credit_id\": \"52fe48009251416c750acab7\", \"gender\": 0, \"id\": 1207252, \"name\": \"Jodie Landau\", \"order\": 36}, {\"cast_id\": 58, \"character\": \"Troupe\", \"credit_id\": \"52fe48009251416c750acabf\", \"gender\": 0, \"id\": 1207254, \"name\": \"Julie Lamm\", \"order\": 37}, {\"cast_id\": 59, \"character\": \"Troupe\", \"credit_id\": \"52fe48009251416c750acac3\", \"gender\": 0, \"id\": 1207257, \"name\": \"Cullen B. Madden\", \"order\": 38}, {\"cast_id\": 60, \"character\": \"Troupe\", \"credit_id\": \"52fe48009251416c750acac7\", \"gender\": 0, \"id\": 1207259, \"name\": \"Joseph Brady Madden\", \"order\": 39}, {\"cast_id\": 61, \"character\": \"Troupe\", \"credit_id\": \"52fe48009251416c750acacb\", \"gender\": 0, \"id\": 1207262, \"name\": \"Frankie Torres\", \"order\": 40}, {\"cast_id\": 62, \"character\": \"Troupe\", \"credit_id\": \"52fe48009251416c750acacf\", \"gender\": 1, \"id\": 1158600, \"name\": \"Austin Wilson\", \"order\": 41}, {\"cast_id\": 63, \"character\": \"Troupe\", \"credit_id\": \"52fe48019251416c750acad3\", \"gender\": 1, \"id\": 983705, \"name\": \"Sara Wilson\", \"order\": 42}, {\"cast_id\": 64, \"character\": \"Troupe\", \"credit_id\": \"52fe48019251416c750acad7\", \"gender\": 0, \"id\": 1207263, \"name\": \"Tamica Washington-Miller\", \"order\": 43}, {\"cast_id\": 65, \"character\": \"Op Center Staff\", \"credit_id\": \"52fe48019251416c750acadb\", \"gender\": 1, \"id\": 1145098, \"name\": \"Lucy Briant\", \"order\": 44}, {\"cast_id\": 66, \"character\": \"Op Center Staff\", \"credit_id\": \"52fe48019251416c750acadf\", \"gender\": 2, \"id\": 33305, \"name\": \"Nathan Meister\", \"order\": 45}, {\"cast_id\": 67, \"character\": \"Op Center Staff\", \"credit_id\": \"52fe48019251416c750acae3\", \"gender\": 0, \"id\": 1207264, \"name\": \"Gerry Blair\", \"order\": 46}, {\"cast_id\": 68, \"character\": \"Op Center Staff\", \"credit_id\": \"52fe48019251416c750acae7\", \"gender\": 2, \"id\": 33311, \"name\": \"Matthew Chamberlain\", \"order\": 47}, {\"cast_id\": 69, \"character\": \"Op Center Staff\", \"credit_id\": \"52fe48019251416c750acaeb\", \"gender\": 0, \"id\": 1207265, \"name\": \"Paul Yates\", \"order\": 48}, {\"cast_id\": 70, \"character\": \"Op Center Duty Officer\", \"credit_id\": \"52fe48019251416c750acaef\", \"gender\": 0, \"id\": 1207266, \"name\": \"Wray Wilson\", \"order\": 49}, {\"cast_id\": 71, \"character\": \"Op Center Staff\", \"credit_id\": \"52fe48019251416c750acaf3\", \"gender\": 2, \"id\": 54492, \"name\": \"James Gaylyn\", \"order\": 50}, {\"cast_id\": 72, \"character\": \"Dancer\", \"credit_id\": \"52fe48019251416c750acaf7\", \"gender\": 0, \"id\": 1207267, \"name\": \"Melvin Leno Clark III\", \"order\": 51}, {\"cast_id\": 73, \"character\": \"Dancer\", \"credit_id\": \"52fe48019251416c750acafb\", \"gender\": 0, \"id\": 1207268, \"name\": \"Carvon Futrell\", \"order\": 52}, {\"cast_id\": 74, \"character\": \"Dancer\", \"credit_id\": \"52fe48019251416c750acaff\", \"gender\": 0, \"id\": 1207269, \"name\": \"Brandon Jelkes\", \"order\": 53}, {\"cast_id\": 75, \"character\": \"Dancer\", \"credit_id\": \"52fe48019251416c750acb03\", \"gender\": 0, \"id\": 1207270, \"name\": \"Micah Moch\", \"order\": 54}, {\"cast_id\": 76, \"character\": \"Dancer\", \"credit_id\": \"52fe48019251416c750acb07\", \"gender\": 0, \"id\": 1207271, \"name\": \"Hanniyah Muhammad\", \"order\": 55}, {\"cast_id\": 77, \"character\": \"Dancer\", \"credit_id\": \"52fe48019251416c750acb0b\", \"gender\": 0, \"id\": 1207272, \"name\": \"Christopher Nolen\", \"order\": 56}, {\"cast_id\": 78, \"character\": \"Dancer\", \"credit_id\": \"52fe48019251416c750acb0f\", \"gender\": 0, \"id\": 1207273, \"name\": \"Christa Oliver\", \"order\": 57}, {\"cast_id\": 79, \"character\": \"Dancer\", \"credit_id\": \"52fe48019251416c750acb13\", \"gender\": 0, \"id\": 1207274, \"name\": \"April Marie Thomas\", \"order\": 58}, {\"cast_id\": 80, \"character\": \"Dancer\", \"credit_id\": \"52fe48019251416c750acb17\", \"gender\": 0, \"id\": 1207275, \"name\": \"Bravita A. Threatt\", \"order\": 59}, {\"cast_id\": 81, \"character\": \"Mining Chief (uncredited)\", \"credit_id\": \"52fe48019251416c750acb1b\", \"gender\": 0, \"id\": 1207276, \"name\": \"Colin Bleasdale\", \"order\": 60}, {\"cast_id\": 82, \"character\": \"Veteran Miner (uncredited)\", \"credit_id\": \"52fe48019251416c750acb1f\", \"gender\": 0, \"id\": 107969, \"name\": \"Mike Bodnar\", \"order\": 61}, {\"cast_id\": 83, \"character\": \"Richard (uncredited)\", \"credit_id\": \"52fe48019251416c750acb23\", \"gender\": 0, \"id\": 1207278, \"name\": \"Matt Clayton\", \"order\": 62}, {\"cast_id\": 84, \"character\": \"Nav\\'i (uncredited)\", \"credit_id\": \"52fe48019251416c750acb27\", \"gender\": 1, \"id\": 147898, \"name\": \"Nicole Dionne\", \"order\": 63}, {\"cast_id\": 85, \"character\": \"Trooper (uncredited)\", \"credit_id\": \"52fe48019251416c750acb2b\", \"gender\": 0, \"id\": 1207280, \"name\": \"Jamie Harrison\", \"order\": 64}, {\"cast_id\": 86, \"character\": \"Trooper (uncredited)\", \"credit_id\": \"52fe48019251416c750acb2f\", \"gender\": 0, \"id\": 1207281, \"name\": \"Allan Henry\", \"order\": 65}, {\"cast_id\": 87, \"character\": \"Ground Technician (uncredited)\", \"credit_id\": \"52fe48019251416c750acb33\", \"gender\": 2, \"id\": 1207282, \"name\": \"Anthony Ingruber\", \"order\": 66}, {\"cast_id\": 88, \"character\": \"Flight Crew Mechanic (uncredited)\", \"credit_id\": \"52fe48019251416c750acb37\", \"gender\": 0, \"id\": 1207283, \"name\": \"Ashley Jeffery\", \"order\": 67}, {\"cast_id\": 14, \"character\": \"Samson Pilot\", \"credit_id\": \"52fe48009251416c750ac9f9\", \"gender\": 0, \"id\": 98216, \"name\": \"Dean Knowsley\", \"order\": 68}, {\"cast_id\": 89, \"character\": \"Trooper (uncredited)\", \"credit_id\": \"52fe48019251416c750acb3b\", \"gender\": 0, \"id\": 1201399, \"name\": \"Joseph Mika-Hunt\", \"order\": 69}, {\"cast_id\": 90, \"character\": \"Banshee (uncredited)\", \"credit_id\": \"52fe48019251416c750acb3f\", \"gender\": 0, \"id\": 236696, \"name\": \"Terry Notary\", \"order\": 70}, {\"cast_id\": 91, \"character\": \"Soldier (uncredited)\", \"credit_id\": \"52fe48019251416c750acb43\", \"gender\": 0, \"id\": 1207287, \"name\": \"Kai Pantano\", \"order\": 71}, {\"cast_id\": 92, \"character\": \"Blast Technician (uncredited)\", \"credit_id\": \"52fe48019251416c750acb47\", \"gender\": 0, \"id\": 1207288, \"name\": \"Logan Pithyou\", \"order\": 72}, {\"cast_id\": 93, \"character\": \"Vindum Raah (uncredited)\", \"credit_id\": \"52fe48019251416c750acb4b\", \"gender\": 0, \"id\": 1207289, \"name\": \"Stuart Pollock\", \"order\": 73}, {\"cast_id\": 94, \"character\": \"Hero (uncredited)\", \"credit_id\": \"52fe48019251416c750acb4f\", \"gender\": 0, \"id\": 584868, \"name\": \"Raja\", \"order\": 74}, {\"cast_id\": 95, \"character\": \"Ops Centreworker (uncredited)\", \"credit_id\": \"52fe48019251416c750acb53\", \"gender\": 0, \"id\": 1207290, \"name\": \"Gareth Ruck\", \"order\": 75}, {\"cast_id\": 96, \"character\": \"Engineer (uncredited)\", \"credit_id\": \"52fe48019251416c750acb57\", \"gender\": 0, \"id\": 1062463, \"name\": \"Rhian Sheehan\", \"order\": 76}, {\"cast_id\": 97, \"character\": \"Col. Quaritch\\'s Mech Suit (uncredited)\", \"credit_id\": \"52fe48019251416c750acb5b\", \"gender\": 0, \"id\": 60656, \"name\": \"T. J. Storm\", \"order\": 77}, {\"cast_id\": 98, \"character\": \"Female Marine (uncredited)\", \"credit_id\": \"52fe48019251416c750acb5f\", \"gender\": 0, \"id\": 1207291, \"name\": \"Jodie Taylor\", \"order\": 78}, {\"cast_id\": 99, \"character\": \"Ikran Clan Leader (uncredited)\", \"credit_id\": \"52fe48019251416c750acb63\", \"gender\": 1, \"id\": 1186027, \"name\": \"Alicia Vela-Bailey\", \"order\": 79}, {\"cast_id\": 100, \"character\": \"Geologist (uncredited)\", \"credit_id\": \"52fe48019251416c750acb67\", \"gender\": 0, \"id\": 1207292, \"name\": \"Richard Whiteside\", \"order\": 80}, {\"cast_id\": 101, \"character\": \"Na\\'vi (uncredited)\", \"credit_id\": \"52fe48019251416c750acb6b\", \"gender\": 0, \"id\": 103259, \"name\": \"Nikie Zambo\", \"order\": 81}, {\"cast_id\": 102, \"character\": \"Ambient Room Tech / Troupe\", \"credit_id\": \"52fe48019251416c750acb6f\", \"gender\": 1, \"id\": 42286, \"name\": \"Julene Renee\", \"order\": 82}]'"
      ]
     },
     "execution_count": 28,
     "metadata": {},
     "output_type": "execute_result"
    }
   ],
   "source": [
    "movies.cast[0]"
   ]
  },
  {
   "cell_type": "markdown",
   "id": "271a37b2-49fe-4a39-81a8-164df9eae8a3",
   "metadata": {},
   "source": [
    "##### we need only first three element of the cast(top heroes/heroines) all the next are definitely of less importance."
   ]
  },
  {
   "cell_type": "code",
   "execution_count": 29,
   "id": "15b231df-0e49-4e02-8189-f82422f9fd3d",
   "metadata": {},
   "outputs": [],
   "source": [
    "def convert2(text):\n",
    "    L = []\n",
    "    count=0\n",
    "    for i in ast.literal_eval(text):\n",
    "        if count != 3:\n",
    "            L.append(i['name']) \n",
    "            count+=1\n",
    "        else:\n",
    "            break\n",
    "    return L "
   ]
  },
  {
   "cell_type": "code",
   "execution_count": 30,
   "id": "6336aa2a-252c-4678-b2ad-2e9adeca2b7e",
   "metadata": {},
   "outputs": [],
   "source": [
    "movies['cast'] = movies['cast'].apply(convert2)"
   ]
  },
  {
   "cell_type": "code",
   "execution_count": 31,
   "id": "2a40b27d-55c6-450d-8818-411bc8c505de",
   "metadata": {},
   "outputs": [
    {
     "data": {
      "text/plain": [
       "0        [Sam Worthington, Zoe Saldana, Sigourney Weaver]\n",
       "1           [Johnny Depp, Orlando Bloom, Keira Knightley]\n",
       "2            [Daniel Craig, Christoph Waltz, Léa Seydoux]\n",
       "3            [Christian Bale, Michael Caine, Gary Oldman]\n",
       "4          [Taylor Kitsch, Lynn Collins, Samantha Morton]\n",
       "                              ...                        \n",
       "4803    [Carlos Gallardo, Jaime de Hoyos, Peter Marqua...\n",
       "4804         [Edward Burns, Kerry Bishé, Marsha Dietlein]\n",
       "4805           [Eric Mabius, Kristin Booth, Crystal Lowe]\n",
       "4806            [Daniel Henney, Eliza Coupe, Bill Paxton]\n",
       "4807    [Drew Barrymore, Brian Herzlinger, Corey Feldman]\n",
       "Name: cast, Length: 4801, dtype: object"
      ]
     },
     "execution_count": 31,
     "metadata": {},
     "output_type": "execute_result"
    }
   ],
   "source": [
    "movies['cast']"
   ]
  },
  {
   "cell_type": "code",
   "execution_count": 32,
   "id": "a3df8219-e13c-411d-a800-db59d8442240",
   "metadata": {},
   "outputs": [
    {
     "data": {
      "text/html": [
       "<div>\n",
       "<style scoped>\n",
       "    .dataframe tbody tr th:only-of-type {\n",
       "        vertical-align: middle;\n",
       "    }\n",
       "\n",
       "    .dataframe tbody tr th {\n",
       "        vertical-align: top;\n",
       "    }\n",
       "\n",
       "    .dataframe thead th {\n",
       "        text-align: right;\n",
       "    }\n",
       "</style>\n",
       "<table border=\"1\" class=\"dataframe\">\n",
       "  <thead>\n",
       "    <tr style=\"text-align: right;\">\n",
       "      <th></th>\n",
       "      <th>id</th>\n",
       "      <th>title</th>\n",
       "      <th>genres</th>\n",
       "      <th>keywords</th>\n",
       "      <th>overview</th>\n",
       "      <th>cast</th>\n",
       "      <th>crew</th>\n",
       "    </tr>\n",
       "  </thead>\n",
       "  <tbody>\n",
       "    <tr>\n",
       "      <th>0</th>\n",
       "      <td>19995</td>\n",
       "      <td>Avatar</td>\n",
       "      <td>[Action, Adventure, Fantasy, Science Fiction]</td>\n",
       "      <td>[culture clash, future, space war, space colon...</td>\n",
       "      <td>In the 22nd century, a paraplegic Marine is di...</td>\n",
       "      <td>[Sam Worthington, Zoe Saldana, Sigourney Weaver]</td>\n",
       "      <td>[{\"credit_id\": \"52fe48009251416c750aca23\", \"de...</td>\n",
       "    </tr>\n",
       "    <tr>\n",
       "      <th>1</th>\n",
       "      <td>285</td>\n",
       "      <td>Pirates of the Caribbean: At World's End</td>\n",
       "      <td>[Adventure, Fantasy, Action]</td>\n",
       "      <td>[ocean, drug abuse, exotic island, east india ...</td>\n",
       "      <td>Captain Barbossa, long believed to be dead, ha...</td>\n",
       "      <td>[Johnny Depp, Orlando Bloom, Keira Knightley]</td>\n",
       "      <td>[{\"credit_id\": \"52fe4232c3a36847f800b579\", \"de...</td>\n",
       "    </tr>\n",
       "    <tr>\n",
       "      <th>2</th>\n",
       "      <td>206647</td>\n",
       "      <td>Spectre</td>\n",
       "      <td>[Action, Adventure, Crime]</td>\n",
       "      <td>[spy, based on novel, secret agent, sequel, mi...</td>\n",
       "      <td>A cryptic message from Bond’s past sends him o...</td>\n",
       "      <td>[Daniel Craig, Christoph Waltz, Léa Seydoux]</td>\n",
       "      <td>[{\"credit_id\": \"54805967c3a36829b5002c41\", \"de...</td>\n",
       "    </tr>\n",
       "    <tr>\n",
       "      <th>3</th>\n",
       "      <td>49026</td>\n",
       "      <td>The Dark Knight Rises</td>\n",
       "      <td>[Action, Crime, Drama, Thriller]</td>\n",
       "      <td>[dc comics, crime fighter, terrorist, secret i...</td>\n",
       "      <td>Following the death of District Attorney Harve...</td>\n",
       "      <td>[Christian Bale, Michael Caine, Gary Oldman]</td>\n",
       "      <td>[{\"credit_id\": \"52fe4781c3a36847f81398c3\", \"de...</td>\n",
       "    </tr>\n",
       "    <tr>\n",
       "      <th>4</th>\n",
       "      <td>49529</td>\n",
       "      <td>John Carter</td>\n",
       "      <td>[Action, Adventure, Science Fiction]</td>\n",
       "      <td>[based on novel, mars, medallion, space travel...</td>\n",
       "      <td>John Carter is a war-weary, former military ca...</td>\n",
       "      <td>[Taylor Kitsch, Lynn Collins, Samantha Morton]</td>\n",
       "      <td>[{\"credit_id\": \"52fe479ac3a36847f813eaa3\", \"de...</td>\n",
       "    </tr>\n",
       "  </tbody>\n",
       "</table>\n",
       "</div>"
      ],
      "text/plain": [
       "       id                                     title  \\\n",
       "0   19995                                    Avatar   \n",
       "1     285  Pirates of the Caribbean: At World's End   \n",
       "2  206647                                   Spectre   \n",
       "3   49026                     The Dark Knight Rises   \n",
       "4   49529                               John Carter   \n",
       "\n",
       "                                          genres  \\\n",
       "0  [Action, Adventure, Fantasy, Science Fiction]   \n",
       "1                   [Adventure, Fantasy, Action]   \n",
       "2                     [Action, Adventure, Crime]   \n",
       "3               [Action, Crime, Drama, Thriller]   \n",
       "4           [Action, Adventure, Science Fiction]   \n",
       "\n",
       "                                            keywords  \\\n",
       "0  [culture clash, future, space war, space colon...   \n",
       "1  [ocean, drug abuse, exotic island, east india ...   \n",
       "2  [spy, based on novel, secret agent, sequel, mi...   \n",
       "3  [dc comics, crime fighter, terrorist, secret i...   \n",
       "4  [based on novel, mars, medallion, space travel...   \n",
       "\n",
       "                                            overview  \\\n",
       "0  In the 22nd century, a paraplegic Marine is di...   \n",
       "1  Captain Barbossa, long believed to be dead, ha...   \n",
       "2  A cryptic message from Bond’s past sends him o...   \n",
       "3  Following the death of District Attorney Harve...   \n",
       "4  John Carter is a war-weary, former military ca...   \n",
       "\n",
       "                                               cast  \\\n",
       "0  [Sam Worthington, Zoe Saldana, Sigourney Weaver]   \n",
       "1     [Johnny Depp, Orlando Bloom, Keira Knightley]   \n",
       "2      [Daniel Craig, Christoph Waltz, Léa Seydoux]   \n",
       "3      [Christian Bale, Michael Caine, Gary Oldman]   \n",
       "4    [Taylor Kitsch, Lynn Collins, Samantha Morton]   \n",
       "\n",
       "                                                crew  \n",
       "0  [{\"credit_id\": \"52fe48009251416c750aca23\", \"de...  \n",
       "1  [{\"credit_id\": \"52fe4232c3a36847f800b579\", \"de...  \n",
       "2  [{\"credit_id\": \"54805967c3a36829b5002c41\", \"de...  \n",
       "3  [{\"credit_id\": \"52fe4781c3a36847f81398c3\", \"de...  \n",
       "4  [{\"credit_id\": \"52fe479ac3a36847f813eaa3\", \"de...  "
      ]
     },
     "execution_count": 32,
     "metadata": {},
     "output_type": "execute_result"
    }
   ],
   "source": [
    "movies.head()"
   ]
  },
  {
   "cell_type": "code",
   "execution_count": 33,
   "id": "a9769eeb-532e-4622-8fd0-8fb77c45a65b",
   "metadata": {},
   "outputs": [
    {
     "data": {
      "text/plain": [
       "'[{\"credit_id\": \"52fe48009251416c750aca23\", \"department\": \"Editing\", \"gender\": 0, \"id\": 1721, \"job\": \"Editor\", \"name\": \"Stephen E. Rivkin\"}, {\"credit_id\": \"539c47ecc3a36810e3001f87\", \"department\": \"Art\", \"gender\": 2, \"id\": 496, \"job\": \"Production Design\", \"name\": \"Rick Carter\"}, {\"credit_id\": \"54491c89c3a3680fb4001cf7\", \"department\": \"Sound\", \"gender\": 0, \"id\": 900, \"job\": \"Sound Designer\", \"name\": \"Christopher Boyes\"}, {\"credit_id\": \"54491cb70e0a267480001bd0\", \"department\": \"Sound\", \"gender\": 0, \"id\": 900, \"job\": \"Supervising Sound Editor\", \"name\": \"Christopher Boyes\"}, {\"credit_id\": \"539c4a4cc3a36810c9002101\", \"department\": \"Production\", \"gender\": 1, \"id\": 1262, \"job\": \"Casting\", \"name\": \"Mali Finn\"}, {\"credit_id\": \"5544ee3b925141499f0008fc\", \"department\": \"Sound\", \"gender\": 2, \"id\": 1729, \"job\": \"Original Music Composer\", \"name\": \"James Horner\"}, {\"credit_id\": \"52fe48009251416c750ac9c3\", \"department\": \"Directing\", \"gender\": 2, \"id\": 2710, \"job\": \"Director\", \"name\": \"James Cameron\"}, {\"credit_id\": \"52fe48009251416c750ac9d9\", \"department\": \"Writing\", \"gender\": 2, \"id\": 2710, \"job\": \"Writer\", \"name\": \"James Cameron\"}, {\"credit_id\": \"52fe48009251416c750aca17\", \"department\": \"Editing\", \"gender\": 2, \"id\": 2710, \"job\": \"Editor\", \"name\": \"James Cameron\"}, {\"credit_id\": \"52fe48009251416c750aca29\", \"department\": \"Production\", \"gender\": 2, \"id\": 2710, \"job\": \"Producer\", \"name\": \"James Cameron\"}, {\"credit_id\": \"52fe48009251416c750aca3f\", \"department\": \"Writing\", \"gender\": 2, \"id\": 2710, \"job\": \"Screenplay\", \"name\": \"James Cameron\"}, {\"credit_id\": \"539c4987c3a36810ba0021a4\", \"department\": \"Art\", \"gender\": 2, \"id\": 7236, \"job\": \"Art Direction\", \"name\": \"Andrew Menzies\"}, {\"credit_id\": \"549598c3c3a3686ae9004383\", \"department\": \"Visual Effects\", \"gender\": 0, \"id\": 6690, \"job\": \"Visual Effects Producer\", \"name\": \"Jill Brooks\"}, {\"credit_id\": \"52fe48009251416c750aca4b\", \"department\": \"Production\", \"gender\": 1, \"id\": 6347, \"job\": \"Casting\", \"name\": \"Margery Simkin\"}, {\"credit_id\": \"570b6f419251417da70032fe\", \"department\": \"Art\", \"gender\": 2, \"id\": 6878, \"job\": \"Supervising Art Director\", \"name\": \"Kevin Ishioka\"}, {\"credit_id\": \"5495a0fac3a3686ae9004468\", \"department\": \"Sound\", \"gender\": 0, \"id\": 6883, \"job\": \"Music Editor\", \"name\": \"Dick Bernstein\"}, {\"credit_id\": \"54959706c3a3686af3003e81\", \"department\": \"Sound\", \"gender\": 0, \"id\": 8159, \"job\": \"Sound Effects Editor\", \"name\": \"Shannon Mills\"}, {\"credit_id\": \"54491d58c3a3680fb1001ccb\", \"department\": \"Sound\", \"gender\": 0, \"id\": 8160, \"job\": \"Foley\", \"name\": \"Dennie Thorpe\"}, {\"credit_id\": \"54491d6cc3a3680fa5001b2c\", \"department\": \"Sound\", \"gender\": 0, \"id\": 8163, \"job\": \"Foley\", \"name\": \"Jana Vance\"}, {\"credit_id\": \"52fe48009251416c750aca57\", \"department\": \"Costume & Make-Up\", \"gender\": 1, \"id\": 8527, \"job\": \"Costume Design\", \"name\": \"Deborah Lynn Scott\"}, {\"credit_id\": \"52fe48009251416c750aca2f\", \"department\": \"Production\", \"gender\": 2, \"id\": 8529, \"job\": \"Producer\", \"name\": \"Jon Landau\"}, {\"credit_id\": \"539c4937c3a36810ba002194\", \"department\": \"Art\", \"gender\": 0, \"id\": 9618, \"job\": \"Art Direction\", \"name\": \"Sean Haworth\"}, {\"credit_id\": \"539c49b6c3a36810c10020e6\", \"department\": \"Art\", \"gender\": 1, \"id\": 12653, \"job\": \"Set Decoration\", \"name\": \"Kim Sinclair\"}, {\"credit_id\": \"570b6f2f9251413a0e00020d\", \"department\": \"Art\", \"gender\": 1, \"id\": 12653, \"job\": \"Supervising Art Director\", \"name\": \"Kim Sinclair\"}, {\"credit_id\": \"54491a6c0e0a26748c001b19\", \"department\": \"Art\", \"gender\": 2, \"id\": 14350, \"job\": \"Set Designer\", \"name\": \"Richard F. Mays\"}, {\"credit_id\": \"56928cf4c3a3684cff0025c4\", \"department\": \"Production\", \"gender\": 1, \"id\": 20294, \"job\": \"Executive Producer\", \"name\": \"Laeta Kalogridis\"}, {\"credit_id\": \"52fe48009251416c750aca51\", \"department\": \"Costume & Make-Up\", \"gender\": 0, \"id\": 17675, \"job\": \"Costume Design\", \"name\": \"Mayes C. Rubeo\"}, {\"credit_id\": \"52fe48009251416c750aca11\", \"department\": \"Camera\", \"gender\": 2, \"id\": 18265, \"job\": \"Director of Photography\", \"name\": \"Mauro Fiore\"}, {\"credit_id\": \"5449194d0e0a26748f001b39\", \"department\": \"Art\", \"gender\": 0, \"id\": 42281, \"job\": \"Set Designer\", \"name\": \"Scott Herbertson\"}, {\"credit_id\": \"52fe48009251416c750aca05\", \"department\": \"Crew\", \"gender\": 0, \"id\": 42288, \"job\": \"Stunts\", \"name\": \"Woody Schultz\"}, {\"credit_id\": \"5592aefb92514152de0010f5\", \"department\": \"Costume & Make-Up\", \"gender\": 0, \"id\": 29067, \"job\": \"Makeup Artist\", \"name\": \"Linda DeVetta\"}, {\"credit_id\": \"5592afa492514152de00112c\", \"department\": \"Costume & Make-Up\", \"gender\": 0, \"id\": 29067, \"job\": \"Hairstylist\", \"name\": \"Linda DeVetta\"}, {\"credit_id\": \"54959ed592514130fc002e5d\", \"department\": \"Camera\", \"gender\": 2, \"id\": 33302, \"job\": \"Camera Operator\", \"name\": \"Richard Bluck\"}, {\"credit_id\": \"539c4891c3a36810ba002147\", \"department\": \"Art\", \"gender\": 2, \"id\": 33303, \"job\": \"Art Direction\", \"name\": \"Simon Bright\"}, {\"credit_id\": \"54959c069251417a81001f3a\", \"department\": \"Visual Effects\", \"gender\": 0, \"id\": 113145, \"job\": \"Visual Effects Supervisor\", \"name\": \"Richard Martin\"}, {\"credit_id\": \"54959a0dc3a3680ff5002c8d\", \"department\": \"Crew\", \"gender\": 2, \"id\": 58188, \"job\": \"Visual Effects Editor\", \"name\": \"Steve R. Moore\"}, {\"credit_id\": \"52fe48009251416c750aca1d\", \"department\": \"Editing\", \"gender\": 2, \"id\": 58871, \"job\": \"Editor\", \"name\": \"John Refoua\"}, {\"credit_id\": \"54491a4dc3a3680fc30018ca\", \"department\": \"Art\", \"gender\": 0, \"id\": 92359, \"job\": \"Set Designer\", \"name\": \"Karl J. Martin\"}, {\"credit_id\": \"52fe48009251416c750aca35\", \"department\": \"Camera\", \"gender\": 1, \"id\": 72201, \"job\": \"Director of Photography\", \"name\": \"Chiling Lin\"}, {\"credit_id\": \"52fe48009251416c750ac9ff\", \"department\": \"Crew\", \"gender\": 0, \"id\": 89714, \"job\": \"Stunts\", \"name\": \"Ilram Choi\"}, {\"credit_id\": \"54959c529251416e2b004394\", \"department\": \"Visual Effects\", \"gender\": 2, \"id\": 93214, \"job\": \"Visual Effects Supervisor\", \"name\": \"Steven Quale\"}, {\"credit_id\": \"54491edf0e0a267489001c37\", \"department\": \"Crew\", \"gender\": 1, \"id\": 122607, \"job\": \"Dialect Coach\", \"name\": \"Carla Meyer\"}, {\"credit_id\": \"539c485bc3a368653d001a3a\", \"department\": \"Art\", \"gender\": 2, \"id\": 132585, \"job\": \"Art Direction\", \"name\": \"Nick Bassett\"}, {\"credit_id\": \"539c4903c3a368653d001a74\", \"department\": \"Art\", \"gender\": 0, \"id\": 132596, \"job\": \"Art Direction\", \"name\": \"Jill Cormack\"}, {\"credit_id\": \"539c4967c3a368653d001a94\", \"department\": \"Art\", \"gender\": 0, \"id\": 132604, \"job\": \"Art Direction\", \"name\": \"Andy McLaren\"}, {\"credit_id\": \"52fe48009251416c750aca45\", \"department\": \"Crew\", \"gender\": 0, \"id\": 236696, \"job\": \"Motion Capture Artist\", \"name\": \"Terry Notary\"}, {\"credit_id\": \"54959e02c3a3680fc60027d2\", \"department\": \"Crew\", \"gender\": 2, \"id\": 956198, \"job\": \"Stunt Coordinator\", \"name\": \"Garrett Warren\"}, {\"credit_id\": \"54959ca3c3a3686ae300438c\", \"department\": \"Visual Effects\", \"gender\": 2, \"id\": 957874, \"job\": \"Visual Effects Supervisor\", \"name\": \"Jonathan Rothbart\"}, {\"credit_id\": \"570b6f519251412c74001b2f\", \"department\": \"Art\", \"gender\": 0, \"id\": 957889, \"job\": \"Supervising Art Director\", \"name\": \"Stefan Dechant\"}, {\"credit_id\": \"570b6f62c3a3680b77007460\", \"department\": \"Art\", \"gender\": 2, \"id\": 959555, \"job\": \"Supervising Art Director\", \"name\": \"Todd Cherniawsky\"}, {\"credit_id\": \"539c4a3ac3a36810da0021cc\", \"department\": \"Production\", \"gender\": 0, \"id\": 1016177, \"job\": \"Casting\", \"name\": \"Miranda Rivers\"}, {\"credit_id\": \"539c482cc3a36810c1002062\", \"department\": \"Art\", \"gender\": 0, \"id\": 1032536, \"job\": \"Production Design\", \"name\": \"Robert Stromberg\"}, {\"credit_id\": \"539c4b65c3a36810c9002125\", \"department\": \"Costume & Make-Up\", \"gender\": 2, \"id\": 1071680, \"job\": \"Costume Design\", \"name\": \"John Harding\"}, {\"credit_id\": \"54959e6692514130fc002e4e\", \"department\": \"Camera\", \"gender\": 0, \"id\": 1177364, \"job\": \"Steadicam Operator\", \"name\": \"Roberto De Angelis\"}, {\"credit_id\": \"539c49f1c3a368653d001aac\", \"department\": \"Costume & Make-Up\", \"gender\": 2, \"id\": 1202850, \"job\": \"Makeup Department Head\", \"name\": \"Mike Smithson\"}, {\"credit_id\": \"5495999ec3a3686ae100460c\", \"department\": \"Visual Effects\", \"gender\": 0, \"id\": 1204668, \"job\": \"Visual Effects Producer\", \"name\": \"Alain Lalanne\"}, {\"credit_id\": \"54959cdfc3a3681153002729\", \"department\": \"Visual Effects\", \"gender\": 0, \"id\": 1206410, \"job\": \"Visual Effects Supervisor\", \"name\": \"Lucas Salton\"}, {\"credit_id\": \"549596239251417a81001eae\", \"department\": \"Crew\", \"gender\": 0, \"id\": 1234266, \"job\": \"Post Production Supervisor\", \"name\": \"Janace Tashjian\"}, {\"credit_id\": \"54959c859251416e1e003efe\", \"department\": \"Visual Effects\", \"gender\": 0, \"id\": 1271932, \"job\": \"Visual Effects Supervisor\", \"name\": \"Stephen Rosenbaum\"}, {\"credit_id\": \"5592af28c3a368775a00105f\", \"department\": \"Costume & Make-Up\", \"gender\": 0, \"id\": 1310064, \"job\": \"Makeup Artist\", \"name\": \"Frankie Karena\"}, {\"credit_id\": \"539c4adfc3a36810e300203b\", \"department\": \"Costume & Make-Up\", \"gender\": 1, \"id\": 1319844, \"job\": \"Costume Supervisor\", \"name\": \"Lisa Lovaas\"}, {\"credit_id\": \"54959b579251416e2b004371\", \"department\": \"Visual Effects\", \"gender\": 0, \"id\": 1327028, \"job\": \"Visual Effects Supervisor\", \"name\": \"Jonathan Fawkner\"}, {\"credit_id\": \"539c48a7c3a36810b5001fa7\", \"department\": \"Art\", \"gender\": 0, \"id\": 1330561, \"job\": \"Art Direction\", \"name\": \"Robert Bavin\"}, {\"credit_id\": \"539c4a71c3a36810da0021e0\", \"department\": \"Costume & Make-Up\", \"gender\": 0, \"id\": 1330567, \"job\": \"Costume Supervisor\", \"name\": \"Anthony Almaraz\"}, {\"credit_id\": \"539c4a8ac3a36810ba0021e4\", \"department\": \"Costume & Make-Up\", \"gender\": 0, \"id\": 1330570, \"job\": \"Costume Supervisor\", \"name\": \"Carolyn M. Fenton\"}, {\"credit_id\": \"539c4ab6c3a36810da0021f0\", \"department\": \"Costume & Make-Up\", \"gender\": 0, \"id\": 1330574, \"job\": \"Costume Supervisor\", \"name\": \"Beth Koenigsberg\"}, {\"credit_id\": \"54491ab70e0a267480001ba2\", \"department\": \"Art\", \"gender\": 0, \"id\": 1336191, \"job\": \"Set Designer\", \"name\": \"Sam Page\"}, {\"credit_id\": \"544919d9c3a3680fc30018bd\", \"department\": \"Art\", \"gender\": 0, \"id\": 1339441, \"job\": \"Set Designer\", \"name\": \"Tex Kadonaga\"}, {\"credit_id\": \"54491cf50e0a267483001b0c\", \"department\": \"Editing\", \"gender\": 0, \"id\": 1352422, \"job\": \"Dialogue Editor\", \"name\": \"Kim Foscato\"}, {\"credit_id\": \"544919f40e0a26748c001b09\", \"department\": \"Art\", \"gender\": 0, \"id\": 1352962, \"job\": \"Set Designer\", \"name\": \"Tammy S. Lee\"}, {\"credit_id\": \"5495a115c3a3680ff5002d71\", \"department\": \"Crew\", \"gender\": 0, \"id\": 1357070, \"job\": \"Transportation Coordinator\", \"name\": \"Denny Caira\"}, {\"credit_id\": \"5495a12f92514130fc002e94\", \"department\": \"Crew\", \"gender\": 0, \"id\": 1357071, \"job\": \"Transportation Coordinator\", \"name\": \"James Waitkus\"}, {\"credit_id\": \"5495976fc3a36811530026b0\", \"department\": \"Sound\", \"gender\": 0, \"id\": 1360103, \"job\": \"Supervising Sound Editor\", \"name\": \"Addison Teague\"}, {\"credit_id\": \"54491837c3a3680fb1001c5a\", \"department\": \"Art\", \"gender\": 2, \"id\": 1376887, \"job\": \"Set Designer\", \"name\": \"C. Scott Baker\"}, {\"credit_id\": \"54491878c3a3680fb4001c9d\", \"department\": \"Art\", \"gender\": 0, \"id\": 1376888, \"job\": \"Set Designer\", \"name\": \"Luke Caska\"}, {\"credit_id\": \"544918dac3a3680fa5001ae0\", \"department\": \"Art\", \"gender\": 0, \"id\": 1376889, \"job\": \"Set Designer\", \"name\": \"David Chow\"}, {\"credit_id\": \"544919110e0a267486001b68\", \"department\": \"Art\", \"gender\": 0, \"id\": 1376890, \"job\": \"Set Designer\", \"name\": \"Jonathan Dyer\"}, {\"credit_id\": \"54491967c3a3680faa001b5e\", \"department\": \"Art\", \"gender\": 0, \"id\": 1376891, \"job\": \"Set Designer\", \"name\": \"Joseph Hiura\"}, {\"credit_id\": \"54491997c3a3680fb1001c8a\", \"department\": \"Art\", \"gender\": 0, \"id\": 1376892, \"job\": \"Art Department Coordinator\", \"name\": \"Rebecca Jellie\"}, {\"credit_id\": \"544919ba0e0a26748f001b42\", \"department\": \"Art\", \"gender\": 0, \"id\": 1376893, \"job\": \"Set Designer\", \"name\": \"Robert Andrew Johnson\"}, {\"credit_id\": \"54491b1dc3a3680faa001b8c\", \"department\": \"Art\", \"gender\": 0, \"id\": 1376895, \"job\": \"Assistant Art Director\", \"name\": \"Mike Stassi\"}, {\"credit_id\": \"54491b79c3a3680fbb001826\", \"department\": \"Art\", \"gender\": 0, \"id\": 1376897, \"job\": \"Construction Coordinator\", \"name\": \"John Villarino\"}, {\"credit_id\": \"54491baec3a3680fb4001ce6\", \"department\": \"Art\", \"gender\": 2, \"id\": 1376898, \"job\": \"Assistant Art Director\", \"name\": \"Jeffrey Wisniewski\"}, {\"credit_id\": \"54491d2fc3a3680fb4001d07\", \"department\": \"Editing\", \"gender\": 0, \"id\": 1376899, \"job\": \"Dialogue Editor\", \"name\": \"Cheryl Nardi\"}, {\"credit_id\": \"54491d86c3a3680fa5001b2f\", \"department\": \"Editing\", \"gender\": 0, \"id\": 1376901, \"job\": \"Dialogue Editor\", \"name\": \"Marshall Winn\"}, {\"credit_id\": \"54491d9dc3a3680faa001bb0\", \"department\": \"Sound\", \"gender\": 0, \"id\": 1376902, \"job\": \"Supervising Sound Editor\", \"name\": \"Gwendolyn Yates Whittle\"}, {\"credit_id\": \"54491dc10e0a267486001bce\", \"department\": \"Sound\", \"gender\": 0, \"id\": 1376903, \"job\": \"Sound Re-Recording Mixer\", \"name\": \"William Stein\"}, {\"credit_id\": \"54491f500e0a26747c001c07\", \"department\": \"Crew\", \"gender\": 0, \"id\": 1376909, \"job\": \"Choreographer\", \"name\": \"Lula Washington\"}, {\"credit_id\": \"549599239251412c4e002a2e\", \"department\": \"Visual Effects\", \"gender\": 0, \"id\": 1391692, \"job\": \"Visual Effects Producer\", \"name\": \"Chris Del Conte\"}, {\"credit_id\": \"54959d54c3a36831b8001d9a\", \"department\": \"Visual Effects\", \"gender\": 2, \"id\": 1391695, \"job\": \"Visual Effects Supervisor\", \"name\": \"R. Christopher White\"}, {\"credit_id\": \"54959bdf9251412c4e002a66\", \"department\": \"Visual Effects\", \"gender\": 0, \"id\": 1394070, \"job\": \"Visual Effects Supervisor\", \"name\": \"Dan Lemmon\"}, {\"credit_id\": \"5495971d92514132ed002922\", \"department\": \"Sound\", \"gender\": 0, \"id\": 1394129, \"job\": \"Sound Effects Editor\", \"name\": \"Tim Nielsen\"}, {\"credit_id\": \"5592b25792514152cc0011aa\", \"department\": \"Crew\", \"gender\": 0, \"id\": 1394286, \"job\": \"CG Supervisor\", \"name\": \"Michael Mulholland\"}, {\"credit_id\": \"54959a329251416e2b004355\", \"department\": \"Crew\", \"gender\": 0, \"id\": 1394750, \"job\": \"Visual Effects Editor\", \"name\": \"Thomas Nittmann\"}, {\"credit_id\": \"54959d6dc3a3686ae9004401\", \"department\": \"Visual Effects\", \"gender\": 0, \"id\": 1394755, \"job\": \"Visual Effects Supervisor\", \"name\": \"Edson Williams\"}, {\"credit_id\": \"5495a08fc3a3686ae300441c\", \"department\": \"Editing\", \"gender\": 0, \"id\": 1394953, \"job\": \"Digital Intermediate\", \"name\": \"Christine Carr\"}, {\"credit_id\": \"55402d659251413d6d000249\", \"department\": \"Visual Effects\", \"gender\": 0, \"id\": 1395269, \"job\": \"Visual Effects Supervisor\", \"name\": \"John Bruno\"}, {\"credit_id\": \"54959e7b9251416e1e003f3e\", \"department\": \"Camera\", \"gender\": 0, \"id\": 1398970, \"job\": \"Steadicam Operator\", \"name\": \"David Emmerichs\"}, {\"credit_id\": \"54959734c3a3686ae10045e0\", \"department\": \"Sound\", \"gender\": 0, \"id\": 1400906, \"job\": \"Sound Effects Editor\", \"name\": \"Christopher Scarabosio\"}, {\"credit_id\": \"549595dd92514130fc002d79\", \"department\": \"Production\", \"gender\": 0, \"id\": 1401784, \"job\": \"Production Supervisor\", \"name\": \"Jennifer Teves\"}, {\"credit_id\": \"549596009251413af70028cc\", \"department\": \"Production\", \"gender\": 0, \"id\": 1401785, \"job\": \"Production Manager\", \"name\": \"Brigitte Yorke\"}, {\"credit_id\": \"549596e892514130fc002d99\", \"department\": \"Sound\", \"gender\": 0, \"id\": 1401786, \"job\": \"Sound Effects Editor\", \"name\": \"Ken Fischer\"}, {\"credit_id\": \"549598229251412c4e002a1c\", \"department\": \"Crew\", \"gender\": 0, \"id\": 1401787, \"job\": \"Special Effects Coordinator\", \"name\": \"Iain Hutton\"}, {\"credit_id\": \"549598349251416e2b00432b\", \"department\": \"Crew\", \"gender\": 0, \"id\": 1401788, \"job\": \"Special Effects Coordinator\", \"name\": \"Steve Ingram\"}, {\"credit_id\": \"54959905c3a3686ae3004324\", \"department\": \"Visual Effects\", \"gender\": 0, \"id\": 1401789, \"job\": \"Visual Effects Producer\", \"name\": \"Joyce Cox\"}, {\"credit_id\": \"5495994b92514132ed002951\", \"department\": \"Visual Effects\", \"gender\": 0, \"id\": 1401790, \"job\": \"Visual Effects Producer\", \"name\": \"Jenny Foster\"}, {\"credit_id\": \"549599cbc3a3686ae1004613\", \"department\": \"Crew\", \"gender\": 0, \"id\": 1401791, \"job\": \"Visual Effects Editor\", \"name\": \"Christopher Marino\"}, {\"credit_id\": \"549599f2c3a3686ae100461e\", \"department\": \"Crew\", \"gender\": 0, \"id\": 1401792, \"job\": \"Visual Effects Editor\", \"name\": \"Jim Milton\"}, {\"credit_id\": \"54959a51c3a3686af3003eb5\", \"department\": \"Visual Effects\", \"gender\": 0, \"id\": 1401793, \"job\": \"Visual Effects Producer\", \"name\": \"Cyndi Ochs\"}, {\"credit_id\": \"54959a7cc3a36811530026f4\", \"department\": \"Crew\", \"gender\": 0, \"id\": 1401794, \"job\": \"Visual Effects Editor\", \"name\": \"Lucas Putnam\"}, {\"credit_id\": \"54959b91c3a3680ff5002cb4\", \"department\": \"Visual Effects\", \"gender\": 0, \"id\": 1401795, \"job\": \"Visual Effects Supervisor\", \"name\": \"Anthony \\'Max\\' Ivins\"}, {\"credit_id\": \"54959bb69251412c4e002a5f\", \"department\": \"Visual Effects\", \"gender\": 0, \"id\": 1401796, \"job\": \"Visual Effects Supervisor\", \"name\": \"John Knoll\"}, {\"credit_id\": \"54959cbbc3a3686ae3004391\", \"department\": \"Visual Effects\", \"gender\": 2, \"id\": 1401799, \"job\": \"Visual Effects Supervisor\", \"name\": \"Eric Saindon\"}, {\"credit_id\": \"54959d06c3a3686ae90043f6\", \"department\": \"Visual Effects\", \"gender\": 0, \"id\": 1401800, \"job\": \"Visual Effects Supervisor\", \"name\": \"Wayne Stables\"}, {\"credit_id\": \"54959d259251416e1e003f11\", \"department\": \"Visual Effects\", \"gender\": 0, \"id\": 1401801, \"job\": \"Visual Effects Supervisor\", \"name\": \"David Stinnett\"}, {\"credit_id\": \"54959db49251413af7002975\", \"department\": \"Visual Effects\", \"gender\": 0, \"id\": 1401803, \"job\": \"Visual Effects Supervisor\", \"name\": \"Guy Williams\"}, {\"credit_id\": \"54959de4c3a3681153002750\", \"department\": \"Crew\", \"gender\": 0, \"id\": 1401804, \"job\": \"Stunt Coordinator\", \"name\": \"Stuart Thorp\"}, {\"credit_id\": \"54959ef2c3a3680fc60027f2\", \"department\": \"Lighting\", \"gender\": 0, \"id\": 1401805, \"job\": \"Best Boy Electric\", \"name\": \"Giles Coburn\"}, {\"credit_id\": \"54959f07c3a3680fc60027f9\", \"department\": \"Camera\", \"gender\": 2, \"id\": 1401806, \"job\": \"Still Photographer\", \"name\": \"Mark Fellman\"}, {\"credit_id\": \"54959f47c3a3681153002774\", \"department\": \"Lighting\", \"gender\": 0, \"id\": 1401807, \"job\": \"Lighting Technician\", \"name\": \"Scott Sprague\"}, {\"credit_id\": \"54959f8cc3a36831b8001df2\", \"department\": \"Visual Effects\", \"gender\": 0, \"id\": 1401808, \"job\": \"Animation Director\", \"name\": \"Jeremy Hollobon\"}, {\"credit_id\": \"54959fa0c3a36831b8001dfb\", \"department\": \"Visual Effects\", \"gender\": 0, \"id\": 1401809, \"job\": \"Animation Director\", \"name\": \"Orlando Meunier\"}, {\"credit_id\": \"54959fb6c3a3686af3003f54\", \"department\": \"Visual Effects\", \"gender\": 0, \"id\": 1401810, \"job\": \"Animation Director\", \"name\": \"Taisuke Tanimura\"}, {\"credit_id\": \"54959fd2c3a36831b8001e02\", \"department\": \"Costume & Make-Up\", \"gender\": 0, \"id\": 1401812, \"job\": \"Set Costumer\", \"name\": \"Lilia Mishel Acevedo\"}, {\"credit_id\": \"54959ff9c3a3686ae300440c\", \"department\": \"Costume & Make-Up\", \"gender\": 0, \"id\": 1401814, \"job\": \"Set Costumer\", \"name\": \"Alejandro M. Hernandez\"}, {\"credit_id\": \"5495a0ddc3a3686ae10046fe\", \"department\": \"Editing\", \"gender\": 0, \"id\": 1401815, \"job\": \"Digital Intermediate\", \"name\": \"Marvin Hall\"}, {\"credit_id\": \"5495a1f7c3a3686ae3004443\", \"department\": \"Production\", \"gender\": 0, \"id\": 1401816, \"job\": \"Publicist\", \"name\": \"Judy Alley\"}, {\"credit_id\": \"5592b29fc3a36869d100002f\", \"department\": \"Crew\", \"gender\": 0, \"id\": 1418381, \"job\": \"CG Supervisor\", \"name\": \"Mike Perry\"}, {\"credit_id\": \"5592b23a9251415df8001081\", \"department\": \"Crew\", \"gender\": 0, \"id\": 1426854, \"job\": \"CG Supervisor\", \"name\": \"Andrew Morley\"}, {\"credit_id\": \"55491e1192514104c40002d8\", \"department\": \"Art\", \"gender\": 0, \"id\": 1438901, \"job\": \"Conceptual Design\", \"name\": \"Seth Engstrom\"}, {\"credit_id\": \"5525d5809251417276002b06\", \"department\": \"Crew\", \"gender\": 0, \"id\": 1447362, \"job\": \"Visual Effects Art Director\", \"name\": \"Eric Oliver\"}, {\"credit_id\": \"554427ca925141586500312a\", \"department\": \"Visual Effects\", \"gender\": 0, \"id\": 1447503, \"job\": \"Modeling\", \"name\": \"Matsune Suzuki\"}, {\"credit_id\": \"551906889251415aab001c88\", \"department\": \"Art\", \"gender\": 0, \"id\": 1447524, \"job\": \"Art Department Manager\", \"name\": \"Paul Tobin\"}, {\"credit_id\": \"5592af8492514152cc0010de\", \"department\": \"Costume & Make-Up\", \"gender\": 0, \"id\": 1452643, \"job\": \"Hairstylist\", \"name\": \"Roxane Griffin\"}, {\"credit_id\": \"553d3c109251415852001318\", \"department\": \"Lighting\", \"gender\": 0, \"id\": 1453938, \"job\": \"Lighting Artist\", \"name\": \"Arun Ram-Mohan\"}, {\"credit_id\": \"5592af4692514152d5001355\", \"department\": \"Costume & Make-Up\", \"gender\": 0, \"id\": 1457305, \"job\": \"Makeup Artist\", \"name\": \"Georgia Lockhart-Adams\"}, {\"credit_id\": \"5592b2eac3a36877470012a5\", \"department\": \"Crew\", \"gender\": 0, \"id\": 1466035, \"job\": \"CG Supervisor\", \"name\": \"Thrain Shadbolt\"}, {\"credit_id\": \"5592b032c3a36877450015f1\", \"department\": \"Crew\", \"gender\": 0, \"id\": 1483220, \"job\": \"CG Supervisor\", \"name\": \"Brad Alexander\"}, {\"credit_id\": \"5592b05592514152d80012f6\", \"department\": \"Crew\", \"gender\": 0, \"id\": 1483221, \"job\": \"CG Supervisor\", \"name\": \"Shadi Almassizadeh\"}, {\"credit_id\": \"5592b090c3a36877570010b5\", \"department\": \"Crew\", \"gender\": 0, \"id\": 1483222, \"job\": \"CG Supervisor\", \"name\": \"Simon Clutterbuck\"}, {\"credit_id\": \"5592b0dbc3a368774b00112c\", \"department\": \"Crew\", \"gender\": 0, \"id\": 1483223, \"job\": \"CG Supervisor\", \"name\": \"Graeme Demmocks\"}, {\"credit_id\": \"5592b0fe92514152db0010c1\", \"department\": \"Crew\", \"gender\": 0, \"id\": 1483224, \"job\": \"CG Supervisor\", \"name\": \"Adrian Fernandes\"}, {\"credit_id\": \"5592b11f9251415df8001059\", \"department\": \"Crew\", \"gender\": 0, \"id\": 1483225, \"job\": \"CG Supervisor\", \"name\": \"Mitch Gates\"}, {\"credit_id\": \"5592b15dc3a3687745001645\", \"department\": \"Crew\", \"gender\": 0, \"id\": 1483226, \"job\": \"CG Supervisor\", \"name\": \"Jerry Kung\"}, {\"credit_id\": \"5592b18e925141645a0004ae\", \"department\": \"Crew\", \"gender\": 0, \"id\": 1483227, \"job\": \"CG Supervisor\", \"name\": \"Andy Lomas\"}, {\"credit_id\": \"5592b1bfc3a368775d0010e7\", \"department\": \"Crew\", \"gender\": 0, \"id\": 1483228, \"job\": \"CG Supervisor\", \"name\": \"Sebastian Marino\"}, {\"credit_id\": \"5592b2049251415df8001078\", \"department\": \"Crew\", \"gender\": 0, \"id\": 1483229, \"job\": \"CG Supervisor\", \"name\": \"Matthias Menz\"}, {\"credit_id\": \"5592b27b92514152d800136a\", \"department\": \"Crew\", \"gender\": 0, \"id\": 1483230, \"job\": \"CG Supervisor\", \"name\": \"Sergei Nevshupov\"}, {\"credit_id\": \"5592b2c3c3a36869e800003c\", \"department\": \"Crew\", \"gender\": 0, \"id\": 1483231, \"job\": \"CG Supervisor\", \"name\": \"Philippe Rebours\"}, {\"credit_id\": \"5592b317c3a36877470012af\", \"department\": \"Crew\", \"gender\": 0, \"id\": 1483232, \"job\": \"CG Supervisor\", \"name\": \"Michael Takarangi\"}, {\"credit_id\": \"5592b345c3a36877470012bb\", \"department\": \"Crew\", \"gender\": 0, \"id\": 1483233, \"job\": \"CG Supervisor\", \"name\": \"David Weitzberg\"}, {\"credit_id\": \"5592b37cc3a368775100113b\", \"department\": \"Crew\", \"gender\": 0, \"id\": 1483234, \"job\": \"CG Supervisor\", \"name\": \"Ben White\"}, {\"credit_id\": \"573c8e2f9251413f5d000094\", \"department\": \"Crew\", \"gender\": 1, \"id\": 1621932, \"job\": \"Stunts\", \"name\": \"Min Windle\"}]'"
      ]
     },
     "execution_count": 33,
     "metadata": {},
     "output_type": "execute_result"
    }
   ],
   "source": [
    "movies['crew'][0]"
   ]
  },
  {
   "cell_type": "code",
   "execution_count": 41,
   "id": "2e242105-afee-4dee-b935-793a14a8f8f5",
   "metadata": {},
   "outputs": [],
   "source": [
    "def fetch_director(text):\n",
    "    L = []\n",
    "    for i in ast.literal_eval(text):\n",
    "        if i['job'] == 'Director':\n",
    "            L.append(i['name'])\n",
    "    return L "
   ]
  },
  {
   "cell_type": "code",
   "execution_count": 45,
   "id": "b9a28448-8d2f-4c49-a340-3e85bde5ad98",
   "metadata": {},
   "outputs": [
    {
     "ename": "SyntaxError",
     "evalue": "unterminated string literal (detected at line 1) (<unknown>, line 1)",
     "output_type": "error",
     "traceback": [
      "Traceback \u001b[1;36m(most recent call last)\u001b[0m:\n",
      "\u001b[0m  File \u001b[0;32m~\\AppData\\Roaming\\Python\\Python311\\site-packages\\IPython\\core\\interactiveshell.py:3550\u001b[0m in \u001b[0;35mrun_code\u001b[0m\n    exec(code_obj, self.user_global_ns, self.user_ns)\u001b[0m\n",
      "\u001b[0m  Cell \u001b[0;32mIn[45], line 1\u001b[0m\n    movies['crew'].apply(fetch_director)\u001b[0m\n",
      "\u001b[0m  File \u001b[0;32m~\\AppData\\Roaming\\Python\\Python311\\site-packages\\pandas\\core\\series.py:4630\u001b[0m in \u001b[0;35mapply\u001b[0m\n    return SeriesApply(self, func, convert_dtype, args, kwargs).apply()\u001b[0m\n",
      "\u001b[0m  File \u001b[0;32m~\\AppData\\Roaming\\Python\\Python311\\site-packages\\pandas\\core\\apply.py:1025\u001b[0m in \u001b[0;35mapply\u001b[0m\n    return self.apply_standard()\u001b[0m\n",
      "\u001b[0m  File \u001b[0;32m~\\AppData\\Roaming\\Python\\Python311\\site-packages\\pandas\\core\\apply.py:1076\u001b[0m in \u001b[0;35mapply_standard\u001b[0m\n    mapped = lib.map_infer(\u001b[0m\n",
      "\u001b[0m  File \u001b[0;32mpandas\\_libs\\lib.pyx:2834\u001b[0m in \u001b[0;35mpandas._libs.lib.map_infer\u001b[0m\n",
      "\u001b[0m  Cell \u001b[0;32mIn[41], line 3\u001b[0m in \u001b[0;35mfetch_director\u001b[0m\n    for i in ast.literal_eval(text):\u001b[0m\n",
      "\u001b[0m  File \u001b[0;32mC:\\Program Files\\Python311\\Lib\\ast.py:64\u001b[0m in \u001b[0;35mliteral_eval\u001b[0m\n    node_or_string = parse(node_or_string.lstrip(\" \\t\"), mode='eval')\u001b[0m\n",
      "\u001b[1;36m  File \u001b[1;32mC:\\Program Files\\Python311\\Lib\\ast.py:50\u001b[1;36m in \u001b[1;35mparse\u001b[1;36m\n\u001b[1;33m    return compile(source, filename, mode, flags,\u001b[1;36m\n",
      "\u001b[1;36m  File \u001b[1;32m<unknown>:1\u001b[1;36m\u001b[0m\n\u001b[1;33m    [{\"credit_id\": \"52fe4bf7c3a368484e1a0683\", \"department\": \"Production\", \"gender\": 2, \"id\": 488, \"job\": \"Executive Producer\", \"name\": \"Steven Spielberg\"}, {\"credit_id\": \"554918b892514104ca000244\", \"department\": \"Production\", \"gender\": 0, \"id\": 561, \"job\": \"Casting\", \"name\": \"John Papsidera\"}, {\"credit_id\": \"52fe4bf7c3a368484e1a0689\", \"department\": \"Production\", \"gender\": 2, \"id\": 664, \"job\": \"Producer\", \"name\": \"Frank Marshall\"}, {\"credit_id\": \"554918a492514104ba0002bc\", \"department\": \"Camera\", \"gender\": 2, \"id\": 892, \"job\": \"Director of Photography\", \"name\": \"John Schwartzman\"}, {\"credit_id\": \"554924a9c3a36841b600032b\", \"department\": \"Sound\", \"gender\": 0, \"id\": 900, \"job\": \"Sound Re-Recording Mixer\", \"name\": \"Christopher Boyes\"}, {\"credit_id\": \"5549258092514104c700038b\", \"department\": \"Sound\", \"gender\": 2, \"id\": 2216, \"job\": \"Sound Designer\", \"name\": \"Gary Rydstrom\"}, {\"credit_id\": \"5549190292514104c4000279\", \"department\": \"Art\", \"gender\": 2, \"id\": 2529, \"job\": \"Set Decoration\", \"name\": \"Ronald R. Reiss\"}, {\"credit_id\": \"5549361392514104c700055b\", \"department\": \"Crew\", \"gender\": 2, \"id\": 4030, \"job\": \"Stunts\", \"name\": \"Martin Klebba\"}, {\"credit_id\": \"5549191292514104ca00024e\", \"department\": \"Costume & Make-Up\", \"gender\": 1, \"id\": 7238, \"job\": \"Costume Design\", \"name\": \"April Ferry\"}, {\"credit_id\": \"52fe4bf7c3a368484e1a066b\", \"department\": \"Writing\", \"gender\": 2, \"id\": 4782, \"job\": \"Characters\", \"name\": \"Michael Crichton\"}, {\"credit_id\": \"554918c292514104c4000270\", \"department\": \"Art\", \"gender\": 2, \"id\": 4953, \"job\": \"Production Design\", \"name\": \"Ed Verreaux\"}, {\"credit_id\": \"554918ecc3a36841bf00025f\", \"department\": \"Art\", \"gender\": 1, \"id\": 6922, \"job\": \"Art Direction\", \"name\": \"Christa Munro\"}, {\"credit_id\": \"554923fcc3a36841b90003e9\", \"department\": \"Art\", \"gender\": 1, \"id\": 20586, \"job\": \"Set Designer\", \"name\": \"Stella Vaccaro\"}, {\"credit_id\": \"588fdb3992514133a5000120\", \"department\": \"Visual Effects\", \"gender\": 2, \"id\": 7727, \"job\": \"Visual Effects\", \"name\": \"Phil Tippett\"}, {\"credit_id\": \"55492593c3a36841b9000427\", \"department\": \"Sound\", \"gender\": 0, \"id\": 8160, \"job\": \"Foley\", \"name\": \"Dennie Thorpe\"}, {\"credit_id\": \"554925b1c3a36841b2000383\", \"department\": \"Sound\", \"gender\": 0, \"id\": 8163, \"job\": \"Foley\", \"name\": \"Jana Vance\"}, {\"credit_id\": \"55492566c3a36841b9000420\", \"department\": \"Sound\", \"gender\": 0, \"id\": 8166, \"job\": \"Sound Re-Recording Mixer\", \"name\": \"Juan Peralta\"}, {\"credit_id\": \"5549191b92514104b80002a6\", \"department\": \"Costume & Make-Up\", \"gender\": 2, \"id\": 8411, \"job\": \"Costume Design\", \"name\": \"Daniel Orlandi\"}, {\"credit_id\": \"554927ed92514104b800041a\", \"department\": \"Visual Effects\", \"gender\": 0, \"id\": 11300, \"job\": \"Visual Effects Supervisor\", \"name\": \"Tim Alexander\"}, {\"credit_id\": \"5624b14792514171c5011376\", \"department\": \"Crew\", \"gender\": 0, \"id\": 12575, \"job\": \"Second Unit Cinematographer\", \"name\": \"Patrick Loungway\"}, {\"credit_id\": \"566718dbc3a36808e60019ac\", \"department\": \"Crew\", \"gender\": 0, \"id\": 13031, \"job\": \"Stunt Coordinator\", \"name\": \"Rocky Capella\"}, {\"credit_id\": \"55492c4392514104ca0003d0\", \"department\": \"Visual Effects\", \"gender\": 0, \"id\": 13115, \"job\": \"Modeling\", \"name\": \"Sean House\"}, {\"credit_id\": \"554918afc3a36841b2000264\", \"department\": \"Editing\", \"gender\": 2, \"id\": 11001, \"job\": \"Editor\", \"name\": \"Kevin Stitt\"}, {\"credit_id\": \"55f0c173c3a368230300004d\", \"department\": \"Sound\", \"gender\": 2, \"id\": 15347, \"job\": \"Original Music Composer\", \"name\": \"Michael Giacchino\"}, {\"credit_id\": \"5624b1069251413ded002912\", \"department\": \"Camera\", \"gender\": 0, \"id\": 42032, \"job\": \"Camera Operator\", \"name\": \"Ian Fox\"}, {\"credit_id\": \"554918d292514104c700026d\", \"department\": \"Art\", \"gender\": 0, \"id\": 18867, \"job\": \"Art Direction\", \"name\": \"Page Buckner\"}, {\"credit_id\": \"5549184ec3a36841b200025c\", \"department\": \"Production\", \"gender\": 2, \"id\": 25600, \"job\": \"Producer\", \"name\": \"Patrick Crowley\"}, {\"credit_id\": \"554919d4c3a36841af00029a\", \"department\": \"Costume & Make-Up\", \"gender\": 0, \"id\": 32282, \"job\": \"Hair Setup\", \"name\": \"Mary L. Mastro\"}, {\"credit_id\": \"5549188792514104ba0002b8\", \"department\": \"Production\", \"gender\": 0, \"id\": 54211, \"job\": \"Executive Producer\", \"name\": \"Thomas Tull\"}, {\"credit_id\": \"55492b9392514104c0000411\", \"department\": \"Crew\", \"gender\": 0, \"id\": 57065, \"job\": \"Compositors\", \"name\": \"Melissa Goddard\"}, {\"credit_id\": \"55495370c3a36841af000816\", \"department\": \"Crew\", \"gender\": 2, \"id\": 60261, \"job\": \"Thanks\", \"name\": \"Stan Winston\"}, {\"credit_id\": \"52fe4bf7c3a368484e1a0671\", \"department\": \"Writing\", \"gender\": 2, \"id\": 67802, \"job\": \"Screenplay\", \"name\": \"Rick Jaffa\"}, {\"credit_id\": \"5549182e92514104ba0002ae\", \"department\": \"Writing\", \"gender\": 2, \"id\": 67802, \"job\": \"Story\", \"name\": \"Rick Jaffa\"}, {\"credit_id\": \"52fe4bf7c3a368484e1a067d\", \"department\": \"Writing\", \"gender\": 1, \"id\": 67803, \"job\": \"Screenplay\", \"name\": \"Amanda Silver\"}, {\"credit_id\": \"55491837c3a36841bf00024e\", \"department\": \"Writing\", \"gender\": 1, \"id\": 67803, \"job\": \"Story\", \"name\": \"Amanda Silver\"}, {\"credit_id\": \"55493552c3a36841ab00051a\", \"department\": \"Crew\", \"gender\": 0, \"id\": 92491, \"job\": \"Stunts\", \"name\": \"Danny Downey\"}, {\"credit_id\": \"55493721c3a36841b200055c\", \"department\": \"Crew\", \"gender\": 2, \"id\": 92503, \"job\": \"Stunts\", \"name\": \"Felipe Savahge\"}, {\"credit_id\": \"5624b286c3a3680e19011261\", \"department\": \"Camera\", \"gender\": 0, \"id\": 71127, \"job\": \"Underwater Camera\", \"name\": \"Peter Zuccarini\"}, {\"credit_id\": \"554935e0c3a36841ab000528\", \"department\": \"Crew\", \"gender\": 0, \"id\": 78890, \"job\": \"Stunts\", \"name\": \"Keith Jardine\"}, {\"credit_id\": \"5665fc7cc3a368069f000c4f\", \"department\": \"Sound\", \"gender\": 2, \"id\": 75380, \"job\": \"Boom Operator\", \"name\": \"Robert Jackson\"}, {\"credit_id\": \"55494a8292514104c700071d\", \"department\": \"Lighting\", \"gender\": 2, \"id\": 79790, \"job\": \"Gaffer\", \"name\": \"Rafael E. S\\u00e1nchez\"}, {\"credit_id\": \"554934ebc3a36841b200053c\", \"department\": \"Crew\", \"gender\": 0, \"id\": 82350, \"job\": \"Stunts\", \"name\": \"David Castillo\"}, {\"credit_id\": \"5624b1c29251413ded002938\", \"department\": \"Camera\", \"gender\": 0, \"id\": 91123, \"job\": \"Helicopter Camera\", \"name\": \"Michael Kelem\"}, {\"credit_id\": \"554926be92514104ba000427\", \"department\": \"Crew\", \"gender\": 2, \"id\": 93258, \"job\": \"Special Effects\", \"name\": \"Michael Lantieri\"}, {\"credit_id\": \"586ccd5b925141087000618d\", \"department\": \"Writing\", \"gender\": 0, \"id\": 111893, \"job\": \"Storyboard\", \"name\": \"John Coven\"}, {\"credit_id\": \"554918e3c3a36841b90002a2\", \"department\": \"Art\", \"gender\": 1, \"id\": 137175, \"job\": \"Art Direction\", \"name\": \"Caty Maxey\"}, {\"credit_id\": \"554934a592514104ba000594\", \"department\": \"Crew\", \"gender\": 0, \"id\": 186922, \"job\": \"Stunts\", \"name\": \"Tim Bell\"}, {\"credit_id\": \"55491ca492514104ca000297\", \"department\": \"Crew\", \"gender\": 2, \"id\": 195078, \"job\": \"Prop Maker\", \"name\": \"Tom Curtis\"}, {\"credit_id\": \"554933af92514104c00004b0\", \"department\": \"Visual Effects\", \"gender\": 0, \"id\": 229860, \"job\": \"Animation\", \"name\": \"Cameron Widen\"}, {\"credit_id\": \"5549220fc3a36841b60002f8\", \"department\": \"Art\", \"gender\": 0, \"id\": 484529, \"job\": \"Art Department Coordinator\", \"name\": \"Mike Piccirillo\"}, {\"credit_id\": \"55493570c3a36841c10004f0\", \"department\": \"Crew\", \"gender\": 2, \"id\": 550473, \"job\": \"Stunts\", \"name\": \"Jeff Galpin\"}, {\"credit_id\": \"554939aec3a36841b900066c\", \"department\": \"Lighting\", \"gender\": 0, \"id\": 575694, \"job\": \"Electrician\", \"name\": \"John Gregory Edwards\"}, {\"credit_id\": \"55492079c3a36841c10002dd\", \"department\": \"Art\", \"gender\": 0, \"id\": 575765, \"job\": \"Set Designer\", \"name\": \"Kevin Loo\"}, {\"credit_id\": \"554952e692514104ca000735\", \"department\": \"Crew\", \"gender\": 0, \"id\": 575769, \"job\": \"Transportation Coordinator\", \"name\": \"Aaron Skalka\"}, {\"credit_id\": \"5549199c92514104b80002ad\", \"department\": \"Costume & Make-Up\", \"gender\": 0, \"id\": 578723, \"job\": \"Hairstylist\", \"name\": \"Sherri Hamilton\"}, {\"credit_id\": \"55f0c11d9251416711000045\", \"department\": \"Writing\", \"gender\": 2, \"id\": 930707, \"job\": \"Screenplay\", \"name\": \"Colin Trevorrow\"}, {\"credit_id\": \"52fe4bf7c3a368484e1a0695\", \"department\": \"Directing\", \"gender\": 2, \"id\": 930707, \"job\": \"Director\", \"name\": \"Colin Trevorrow\"}, {\"credit_id\": \"55491c0d92514104ca000286\", \"department\": \"Art\", \"gender\": 2, \"id\": 959555, \"job\": \"Set Designer\", \"name\": \"Todd Cherniawsky\"}, {\"credit_id\": \"5549182592514104cd000255\", \"department\": \"Writing\", \"gender\": 2, \"id\": 1020013, \"job\": \"Screenplay\", \"name\": \"Derek Connolly\"}, {\"credit_id\": \"55493524c3a36841af000567\", \"department\": \"Crew\", \"gender\": 0, \"id\": 1025667, \"job\": \"Stunts\", \"name\": \"Craig H. Davidson\"}, {\"credit_id\": \"5549490c92514104ca000662\", \"department\": \"Lighting\", \"gender\": 0, \"id\": 1045115, \"job\": \"Gaffer\", \"name\": \"Michael Maley\"}, {\"credit_id\": \"5549277ec3a36841af0003e9\", \"department\": \"Crew\", \"gender\": 2, \"id\": 1056155, \"job\": \"Special Effects\", \"name\": \"Cole Taylor\"}, {\"credit_id\": \"5549350ec3a36841bf000564\", \"department\": \"Crew\", \"gender\": 0, \"id\": 1089920, \"job\": \"Stunts\", \"name\": \"Tim Connolly\"}, {\"credit_id\": \"5624b3acc3a3680e1001121a\", \"department\": \"Costume & Make-Up\", \"gender\": 0, \"id\": 1095271, \"job\": \"Makeup Department Head\", \"name\": \"Vivian Baker\"}, {\"credit_id\": \"55493637c3a36841b9000606\", \"department\": \"Crew\", \"gender\": 0, \"id\": 1106629, \"job\": \"Stunts\", \"name\": \"Raymond Mamrak\"}, {\"credit_id\": \"55492f91c3a36841a900053d\", \"department\": \"Crew\", \"gender\": 0, \"id\": 1155551, \"job\": \"Visual Effects Editor\", \"name\": \"Kindra Marra\"}, {\"credit_id\": \"554935cb92514104ba0005af\", \"department\": \"Crew\", \"gender\": 0, \"id\": 1191027, \"job\": \"Stunts\", \"name\": \"Daniel Hern\\u00e1ndez\"}, {\"credit_id\": \"554918f692514104c4000275\", \"department\": \"Art\", \"gender\": 0, \"id\": 1195362, \"job\": \"Art Direction\", \"name\": \"David Scott\"}, {\"credit_id\": \"55494bb392514104ba000787\", \"department\": \"Lighting\", \"gender\": 0, \"id\": 1215298, \"job\": \"Lighting Technician\", \"name\": \"Vince Young\"}, {\"credit_id\": \"554926f692514104c70003bb\", \"department\": \"Crew\", \"gender\": 0, \"id\": 1224272, \"job\": \"Special Effects\", \"name\": \"John McLeod\"}, {\"credit_id\": \"55493756c3a36841b200055f\", \"department\": \"Crew\", \"gender\": 1, \"id\": 1235012, \"job\": \"Stunts\", \"name\": \"Taryn Terrell\"}, {\"credit_id\": \"55491a6192514104cd00027a\", \"department\": \"Production\", \"gender\": 2, \"id\": 1235227, \"job\": \"Production Supervisor\", \"name\": \"Scott Trimble\"}, {\"credit_id\": \"554935fb92514104be000590\", \"department\": \"Crew\", \"gender\": 0, \"id\": 1247272, \"job\": \"Stunts\", \"name\": \"Zero Kazama\"}, {\"credit_id\": \"554935b492514104ba0005ab\", \"department\": \"Crew\", \"gender\": 2, \"id\": 1275523, \"job\": \"Stunts\", \"name\": \"Charles Haugk\"}, {\"credit_id\": \"554936c1c3a36841af000588\", \"department\": \"Crew\", \"gender\": 0, \"id\": 1285241, \"job\": \"Stunts\", \"name\": \"Gary Price\"}, {\"credit_id\": \"55491973c3a36841bf00026f\", \"department\": \"Costume & Make-Up\", \"gender\": 0, \"id\": 1304298, \"job\": \"Makeup Artist\", \"name\": \"Melanie Deforrest\"}, {\"credit_id\": \"5549216e92514104c000031d\", \"department\": \"Art\", \"gender\": 0, \"id\": 1309482, \"job\": \"Art Direction\", \"name\": \"Mark 'Crash' McCreery\"}, {\"credit_id\": \"554926d6c3a36841af0003dc\", \"department\": \"Crew\", \"gender\": 0, \"id\": 1309482, \"job\": \"Special Effects\", \"name\": \"Mark 'Crash' McCreery\"}, {\"credit_id\": \"55494ddcc3a36841af0007af\", \"department\": \"Costume & Make-Up\", \"gender\": 0, \"id\": 1319157, \"job\": \"Set Costumer\", \"name\": \"Hannah Gates\"}, {\"credit_id\": \"55494dec92514104c00006c3\", \"department\": \"Costume & Make-Up\", \"gender\": 0, \"id\": 1320974, \"job\": \"Set Costumer\", \"name\": \"Ren Heeralal\"}, {\"credit_id\": \"55494e4a92514104ca0006d4\", \"department\": \"Costume & Make-Up\", \"gender\": 0, \"id\": 1328407, \"job\": \"Costume Supervisor\", \"name\": \"Elaine Ramires\"}, {\"credit_id\": \"55491a3492514104cd000273\", \"department\": \"Costume & Make-Up\", \"gender\": 0, \"id\": 1333900, \"job\": \"Makeup Artist\", \"name\": \"Michelle Vittone\"}, {\"credit_id\": \"55491c0392514104ca000284\", \"department\": \"Art\", \"gender\": 0, \"id\": 1339435, \"job\": \"Set Designer\", \"name\": \"Lorrie Campbell\"}, {\"credit_id\": \"55491876c3a36841bf000255\", \"department\": \"Production\", \"gender\": 0, \"id\": 1341268, \"job\": \"Associate Producer\", \"name\": \"Christopher Raimo\"}, {\"credit_id\": \"5549535992514104ca000739\", \"department\": \"Crew\", \"gender\": 0, \"id\": 1347762, \"job\": \"Thanks\", \"name\": \"James P. Schramm\"}, {\"credit_id\": \"5549204a92514104b8000342\", \"department\": \"Art\", \"gender\": 0, \"id\": 1352962, \"job\": \"Set Designer\", \"name\": \"Tammy S. Lee\"}, {\"credit_id\": \"5549240792514104ba0003d5\", \"department\": \"Art\", \"gender\": 0, \"id\": 1355530, \"job\": \"Sculptor\", \"name\": \"Cuitlahuac Morales Velazquez\"}, {\"credit_id\": \"5549355cc3a36841a90005e9\", \"department\": \"Crew\", \"gender\": 0, \"id\": 1367516, \"job\": \"Stunts\", \"name\": \"Timothy Eulich\"}, {\"credit_id\": \"55495305c3a36841c100078f\", \"department\": \"Crew\", \"gender\": 0, \"id\": 1367945, \"job\": \"Driver\", \"name\": \"Steve Smitherman\"}, {\"credit_id\": \"55492431c3a36841c100032e\", \"department\": \"Art\", \"gender\": 0, \"id\": 1368863, \"job\": \"Set Designer\", \"name\": \"Randall D. Wilkins\"}, {\"credit_id\": \"55491f6ec3a36841b2000301\", \"department\": \"Art\", \"gender\": 0, \"id\": 1370904, \"job\": \"Sculptor\", \"name\": \"Chris Hopkins\"}, {\"credit_id\": \"55491c3892514104ca00028a\", \"department\": \"Art\", \"gender\": 0, \"id\": 1376889, \"job\": \"Set Designer\", \"name\": \"David Chow\"}, {\"credit_id\": \"554925c7c3a36841af0003b8\", \"department\": \"Sound\", \"gender\": 0, \"id\": 1376902, \"job\": \"Supervising Sound Editor\", \"name\": \"Gwendolyn Yates Whittle\"}, {\"credit_id\": \"55491fd692514104c0000303\", \"department\": \"Costume & Make-Up\", \"gender\": 0, \"id\": 1386905, \"job\": \"Set Dressing Artist\", \"name\": \"Jenni Knight\"}, {\"credit_id\": \"55492f3a92514104cd00049a\", \"department\": \"Visual Effects\", \"gender\": 0, \"id\": 1386913, \"job\": \"Visual Effects Producer\", \"name\": \"Greg Maloney\"}, {\"credit_id\": \"55493676c3a36841af000582\", \"department\": \"Crew\", \"gender\": 0, \"id\": 1387252, \"job\": \"Stunt Coordinator\", \"name\": \"Chris O'Hara\"}, {\"credit_id\": \"55492589c3a36841af0003ab\", \"department\": \"Sound\", \"gender\": 0, \"id\": 1388864, \"job\": \"ADR & Dubbing\", \"name\": \"Brad Semenoff\"}, {\"credit_id\": \"5624da759251413ded003084\", \"department\": \"Editing\", \"gender\": 0, \"id\": 1388864, \"job\": \"Dialogue Editor\", \"name\": \"Brad Semenoff\"}, {\"credit_id\": \"55493172c3a36841c1000486\", \"department\": \"Visual Effects\", \"gender\": 0, \"id\": 1388872, \"job\": \"Visual Effects Supervisor\", \"name\": \"Katherine Rodtsbrooks\"}, {\"credit_id\": \"5624e71cc3a3680e10011be6\", \"department\": \"Sound\", \"gender\": 0, \"id\": 1389136, \"job\": \"Music Editor\", \"name\": \"Paul Apelgren\"}, {\"credit_id\": \"56814d0792514131df00e332\", \"department\": \"Art\", \"gender\": 0, \"id\": 1390516, \"job\": \"Sculptor\", \"name\": \"David James\"}, {\"credit_id\": \"5549243c92514104b80003b6\", \"department\": \"Art\", \"gender\": 0, \"id\": 1391123, \"job\": \"Greensman\", \"name\": \"Liloa Wong\"}, {\"credit_id\": \"5549216392514104cd00032b\", \"department\": \"Art\", \"gender\": 0, \"id\": 1392116, \"job\": \"Set Designer\", \"name\": \"Masako Masuda\"}, {\"credit_id\": \"554949d7c3a36841af000759\", \"department\": \"Lighting\", \"gender\": 0, \"id\": 1392612, \"job\": \"Electrician\", \"name\": \"Ahmad Powell\"}, {\"credit_id\": \"5549392e92514104be0005e3\", \"department\": \"Lighting\", \"gender\": 0, \"id\": 1392943, \"job\": \"Gaffer\", \"name\": \"Joshua Davis\"}, {\"credit_id\": \"554919b892514104be000289\", \"department\": \"Costume & Make-Up\", \"gender\": 0, \"id\": 1393581, \"job\": \"Makeup Artist\", \"name\": \"Jack Lazzaro\"}, {\"credit_id\": \"55494bc092514104c00006a2\", \"department\": \"Camera\", \"gender\": 0, \"id\": 1394724, \"job\": \"Still Photographer\", \"name\": \"Chuck Zlotnick\"}, {\"credit_id\": \"55491d4292514104c40002c7\", \"department\": \"Art\", \"gender\": 0, \"id\": 1395432, \"job\": \"Set Designer\", \"name\": \"Forest P. Fischer\"}, {\"credit_id\": \"55491b9492514104c70002b5\", \"department\": \"Art\", \"gender\": 0, \"id\": 1399290, \"job\": \"Set Designer\", \"name\": \"Ernie Avila\"}, {\"credit_id\": \"5549338292514104ba00057e\", \"department\": \"Visual Effects\", \"gender\": 0, \"id\": 1400403, \"job\": \"Visual Effects Producer\", \"name\": \"Shawn Walsh\"}, {\"credit_id\": \"5549218d92514104ca0002eb\", \"department\": \"Art\", \"gender\": 0, \"id\": 1400547, \"job\": \"Set Designer\", \"name\": \"Ron Mendell\"}, {\"credit_id\": \"5549203f92514104be000337\", \"department\": \"Art\", \"gender\": 0, \"id\": 1400555, \"job\": \"Set Designer\", \"name\": \"George Lee\"}, {\"credit_id\": \"5549233892514104be000399\", \"department\": \"Art\", \"gender\": 0, \"id\": 1400855, \"job\": \"Greensman\", \"name\": \"Alex Sessing\"}, {\"credit_id\": \"5624afac92514139800001bd\", \"department\": \"Camera\", \"gender\": 2, \"id\": 1401109, \"job\": \"Steadicam Operator\", \"name\": \"Chris Haarhoff\"}, {\"credit_id\": \"55494a5ec3a36841b6000671\", \"department\": \"Lighting\", \"gender\": 0, \"id\": 1401807, \"job\": \"Best Boy Electric\", \"name\": \"Scott Sprague\"}, {\"credit_id\": \"55491cc5c3a36841b20002d6\", \"department\": \"Art\", \"gender\": 0, \"id\": 1401884, \"job\": \"Sculptor\", \"name\": \"Yann Denoual\"}, {\"credit_id\": \"55492a55c3a36841c10003ca\", \"department\": \"Crew\", \"gender\": 0, \"id\": 1401893, \"job\": \"Visual Effects Editor\", \"name\": \"Lorelei David\"}, {\"credit_id\": \"5624b1e7c3a3680e1d012052\", \"department\": \"Camera\", \"gender\": 2, \"id\": 1403415, \"job\": \"Helicopter Camera\", \"name\": \"David B. Nowell\"}, {\"credit_id\": \"5549197dc3a36841b90002b5\", \"department\": \"Costume & Make-Up\", \"gender\": 0, \"id\": 1403425, \"job\": \"Hairstylist\", \"name\": \"Mahealani Diego\"}, {\"credit_id\": \"55491bd592514104c70002b9\", \"department\": \"Art\", \"gender\": 0, \"id\": 1403432, \"job\": \"Construction Coordinator\", \"name\": \"Robert A. Blackburn\"}, {\"credit_id\": \"5549198a92514104c4000284\", \"department\": \"Costume & Make-Up\", \"gender\": 0, \"id\": 1404190, \"job\": \"Makeup Artist\", \"name\": \"Karri Farris\"}, {\"credit_id\": \"554947eac3a36841af000715\", \"department\": \"Camera\", \"gender\": 0, \"id\": 1405389, \"job\": \"Director of Photography\", \"name\": \"Ronald Hersey\"}, {\"credit_id\": \"554924f192514104c700037c\", \"department\": \"Sound\", \"gender\": 0, \"id\": 1406872, \"job\": \"Foley\", \"name\": \"Nia Hansen\"}, {\"credit_id\": \"5549193c92514104c0000267\", \"department\": \"Costume & Make-Up\", \"gender\": 0, \"id\": 1407340, \"job\": \"Hairstylist\", \"name\": \"Melizah Anguiano\"}, {\"credit_id\": \"55494db2c3a36841b60006be\", \"department\": \"Costume & Make-Up\", \"gender\": 0, \"id\": 1407371, \"job\": \"Set Costumer\", \"name\": \"Frank Avanzo\"}, {\"credit_id\": \"55492690c3a36841b900044a\", \"department\": \"Visual Effects\", \"gender\": 0, \"id\": 1407702, \"job\": \"Modeling\", \"name\": \"Allan B. Holt\"}, {\"credit_id\": \"55491a13c3a36841a90002d5\", \"department\": \"Costume & Make-Up\", \"gender\": 0, \"id\": 1411166, \"job\": \"Hairstylist\", \"name\": \"Peter Tothpal\"}, {\"credit_id\": \"554924dd92514104c7000379\", \"department\": \"Sound\", \"gender\": 0, \"id\": 1412984, \"job\": \"Sound Effects Editor\", \"name\": \"Pascal Garneau\"}, {\"credit_id\": \"55493606c3a36841ab00052b\", \"department\": \"Crew\", \"gender\": 0, \"id\": 1413402, \"job\": \"Stunts\", \"name\": \"Patrick Kearns\"}, {\"credit_id\": \"554924e792514104b80003cd\", \"department\": \"Sound\", \"gender\": 0, \"id\": 1414178, \"job\": \"Sound Effects Editor\", \"name\": \"Scott Guitteau\"}, {\"credit_id\": \"55491cb9c3a36841a9000315\", \"department\": \"Crew\", \"gender\": 0, \"id\": 1414497, \"job\": \"Property Master\", \"name\": \"Guillaume DeLouche\"}, {\"credit_id\": \"554919e592514104b80002b1\", \"department\": \"Costume & Make-Up\", \"gender\": 0, \"id\": 1415334, \"job\": \"Makeup Artist\", \"name\": \"Paige Reeves\"}, {\"credit_id\": \"55492509c3a36841bf000379\", \"department\": \"Sound\", \"gender\": 0, \"id\": 1416386, \"job\": \"Sound Re-Recording Mixer\", \"name\": \"Pete Horner\"}, {\"credit_id\": \"554919efc3a36841b200028b\", \"department\": \"Costume & Make-Up\", \"gender\": 0, \"id\": 1418349, \"job\": \"Makeup Artist\", \"name\": \"LeDiedra Richard-Baldwin\"}, {\"credit_id\": \"55491a0a92514104cd00026f\", \"department\": \"Costume & Make-Up\", \"gender\": 0, \"id\": 1418350, \"job\": \"Makeup Artist\", \"name\": \"Emily Tatum\"}, {\"credit_id\": \"55492546c3a36841a900044c\", \"department\": \"Sound\", \"gender\": 0, \"id\": 1422411, \"job\": \"Sound Designer\", \"name\": \"Al Nelson\"}, {\"credit_id\": \"554919c292514104ba0002ce\", \"department\": \"Costume & Make-Up\", \"gender\": 0, \"id\": 1431553, \"job\": \"Makeup Artist\", \"name\": \"Courtney Lether\"}, {\"credit_id\": \"5549496fc3a36841b2000769\", \"department\": \"Lighting\", \"gender\": 0, \"id\": 1432024, \"job\": \"Electrician\", \"name\": \"Charlie McIntyre\"}, {\"credit_id\": \"554919f892514104be00028d\", \"department\": \"Costume & Make-Up\", \"gender\": 0, \"id\": 1434557, \"job\": \"Makeup Artist\", \"name\": \"Jami Ross\"}, {\"credit_id\": \"55492b87c3a36841b200040a\", \"department\": \"Visual Effects\", \"gender\": 0, \"id\": 1444958, \"job\": \"Visual Effects Producer\", \"name\": \"Justin Gladden\"}, {\"credit_id\": \"5549253ac3a36841b200037d\", \"department\": \"Editing\", \"gender\": 0, \"id\": 1445834, \"job\": \"Dialogue Editor\", \"name\": \"Stuart McCowan\"}, {\"credit_id\": \"5549201d92514104c700031f\", \"department\": \"Costume & Make-Up\", \"gender\": 0, \"id\": 1447938, \"job\": \"Set Dressing Artist\", \"name\": \"Kevin C. Lang\"}, {\"credit_id\": \"5549273492514104be000425\", \"department\": \"Crew\", \"gender\": 0, \"id\": 1453663, \"job\": \"Special Effects\", \"name\": \"Jacob Roanhaus\"}, {\"credit_id\": \"554936b8c3a36841bf000584\", \"department\": \"Crew\", \"gender\": 0, \"id\": 1453905, \"job\": \"Stunts\", \"name\": \"Kara Petersen\"}, {\"credit_id\": \"5549358f92514104ba0005a5\", \"department\": \"Crew\", \"gender\": 0, \"id\": 1455499, \"job\": \"Stunts\", \"name\": \"Regis Harrington\"}, {\"credit_id\": \"554684d49251413fc00042c1\", \"department\": \"Visual Effects\", \"gender\": 0, \"id\": 1455598, \"job\": \"Animation\", \"name\": \"Mike Dharney\"}, {\"credit_id\": \"55340997c3a3680bdc00053a\", \"department\": \"Crew\", \"gender\": 0, \"id\": 1456696, \"job\": \"Compositors\", \"name\": \"Brian N. Bentley\"}, {\"credit_id\": \"570f0b5a92514102bc0016e5\", \"department\": \"Editing\", \"gender\": 0, \"id\": 1457666, \"job\": \"Assistant Editor\", \"name\": \"Kris Cole\"}, {\"credit_id\": \"5549378e92514104c4000538\", \"department\": \"Crew\", \"gender\": 0, \"id\": 1457917, \"job\": \"Stunts\", \"name\": \"Nico Woulard\"}, {\"credit_id\": \"5549195fc3a36841a90002ba\", \"department\": \"Costume & Make-Up\", \"gender\": 0, \"id\": 1458084, \"job\": \"Makeup Artist\", \"name\": \"Chantal Boom'la\"}, {\"credit_id\": \"55491a01c3a36841a90002cd\", \"department\": \"Costume & Make-Up\", \"gender\": 0, \"id\": 1458086, \"job\": \"Makeup Artist\", \"name\": \"Laine Rykes\"}, {\"credit_id\": \"55494ab7c3a36841a90007d1\", \"department\": \"Lighting\", \"gender\": 0, \"id\": 1458141, \"job\": \"Rigging Gaffer\", \"name\": \"Don Tomich\"}, {\"credit_id\": \"55494bf692514104ca000694\", \"department\": \"Visual Effects\", \"gender\": 0, \"id\": 1459728, \"job\": \"Animation\", \"name\": \"Kyle Dunlevy\"}, {\"credit_id\": \"55494c6992514104ba000797\", \"department\": \"Visual Effects\", \"gender\": 0, \"id\": 1459736, \"job\": \"Animation\", \"name\": \"Travis Tohill\"}, {\"credit_id\": \"55494c1292514104b800076c\", \"department\": \"Visual Effects\", \"gender\": 0, \"id\": 1459744, \"job\": \"Animation\", \"name\": \"Cameron Folds\"}, {\"credit_id\": \"55494c2fc3a36841c10006f2\", \"department\": \"Visual Effects\", \"gender\": 0, \"id\": 1459748, \"job\": \"Animation\", \"name\": \"Peer Lemmers\"}, {\"credit_id\": \"55494c3cc3a36841b60006a2\", \"department\": \"Visual Effects\", \"gender\": 0, \"id\": 1459752, \"job\": \"Animation\", \"name\": \"Andrew Malesky\"}, {\"credit_id\": \"55494c9ac3a36841af000798\", \"department\": \"Visual Effects\", \"gender\": 0, \"id\": 1459764, \"job\": \"Animation\", \"name\": \"Luis Carlos Uribe\"}, {\"credit_id\": \"55494ca7c3a36841af00079b\", \"department\": \"Visual Effects\", \"gender\": 0, \"id\": 1459766, \"job\": \"Animation\", \"name\": \"Bob Wilson\"}, {\"credit_id\": \"5549288992514104c70003e6\", \"department\": \"Visual Effects\", \"gender\": 0, \"id\": 1459774, \"job\": \"Animation\", \"name\": \"Eric Bates\"}, {\"credit_id\": \"5548d2cb92514156090022e3\", \"department\": \"Visual Effects\", \"gender\": 0, \"id\": 1460608, \"job\": \"Animation\", \"name\": \"Emilio Ghorayeb\"}, {\"credit_id\": \"5624dfabc3a368686800b646\", \"department\": \"Lighting\", \"gender\": 0, \"id\": 1460624, \"job\": \"Lighting Supervisor\", \"name\": \"Celia Jepson\"}, {\"credit_id\": \"5549282bc3a36841b9000471\", \"department\": \"Crew\", \"gender\": 0, \"id\": 1460645, \"job\": \"Compositors\", \"name\": \"Dwight Angelito\"}, {\"credit_id\": \"554929d292514104ba000484\", \"department\": \"Crew\", \"gender\": 0, \"id\": 1460647, \"job\": \"Compositors\", \"name\": \"Darrell Claunch\"}, {\"credit_id\": \"554918dac3a36841c1000247\", \"department\": \"Art\", \"gender\": 0, \"id\": 1463269, \"job\": \"Art Direction\", \"name\": \"Nick Crocco\"}, {\"credit_id\": \"55491955c3a36841ab000264\", \"department\": \"Costume & Make-Up\", \"gender\": 0, \"id\": 1463270, \"job\": \"Hairstylist\", \"name\": \"Lawrnell Bell-Rattler\"}, {\"credit_id\": \"5549196992514104ca000256\", \"department\": \"Costume & Make-Up\", \"gender\": 0, \"id\": 1463271, \"job\": \"Makeup Artist\", \"name\": \"Natalie Cordray\"}, {\"credit_id\": \"554919a5c3a36841a90002be\", \"department\": \"Costume & Make-Up\", \"gender\": 0, \"id\": 1463272, \"job\": \"Hairstylist\", \"name\": \"Jennifer Hodges\"}, {\"credit_id\": \"554919aec3a36841bf000276\", \"department\": \"Costume & Make-Up\", \"gender\": 0, \"id\": 1463273, \"job\": \"Hairstylist\", \"name\": \"Stephanie Jennings\"}, {\"credit_id\": \"554919cbc3a36841b2000284\", \"department\": \"Costume & Make-Up\", \"gender\": 0, \"id\": 1463274, \"job\": \"Makeup Artist\", \"name\": \"Annabelle MacNeal\"}, {\"credit_id\": \"55491a1dc3a36841b200028f\", \"department\": \"Costume & Make-Up\", \"gender\": 0, \"id\": 1463275, \"job\": \"Hairstylist\", \"name\": \"Linda Traxler\"}, {\"credit_id\": \"55491a2892514104ca000264\", \"department\": \"Costume & Make-Up\", \"gender\": 0, \"id\": 1463276, \"job\": \"Makeup Artist\", \"name\": \"Vicki Vacca\"}, {\"credit_id\": \"55491a3e92514104c700028b\", \"department\": \"Costume & Make-Up\", \"gender\": 0, \"id\": 1463277, \"job\": \"Hairstylist\", \"name\": \"Crystal Wells\"}, {\"credit_id\": \"5624e64cc3a368240d00b293\", \"department\": \"Production\", \"gender\": 0, \"id\": 1463278, \"job\": \"Production Supervisor\", \"name\": \"Russell Allen\"}, {\"credit_id\": \"5624e320c3a368240d00b1c2\", \"department\": \"Production\", \"gender\": 0, \"id\": 1463279, \"job\": \"Executive In Charge Of Production\", \"name\": \"Ty Warren\"}, {\"credit_id\": \"55491a98c3a36841b600025d\", \"department\": \"Directing\", \"gender\": 0, \"id\": 1463281, \"job\": \"Assistant Director\", \"name\": \"Chris Castaldi\"}, {\"credit_id\": \"55491ad6c3a36841bf000294\", \"department\": \"Directing\", \"gender\": 0, \"id\": 1463286, \"job\": \"Assistant Director\", \"name\": \"Scott Koche\"}, {\"credit_id\": \"55491b02c3a36841b20002b5\", \"department\": \"Directing\", \"gender\": 0, \"id\": 1463289, \"job\": \"Assistant Director\", \"name\": \"Joyce McCarthy\"}, {\"credit_id\": \"55491b23c3a36841ab00028b\", \"department\": \"Directing\", \"gender\": 0, \"id\": 1463290, \"job\": \"Assistant Director\", \"name\": \"Nathan Parker\"}, {\"credit_id\": \"55491b3092514104ba0002ec\", \"department\": \"Directing\", \"gender\": 0, \"id\": 1463291, \"job\": \"Assistant Director\", \"name\": \"Stockton David Porter\"}, {\"credit_id\": \"55491b4ac3a36841bf00029f\", \"department\": \"Directing\", \"gender\": 0, \"id\": 1463292, \"job\": \"Assistant Director\", \"name\": \"Zack Smith\"}, {\"credit_id\": \"55491b5692514104cd000290\", \"department\": \"Directing\", \"gender\": 0, \"id\": 1463293, \"job\": \"Assistant Director\", \"name\": \"Spencer Taylor\"}, {\"credit_id\": \"55491b9f92514104be0002be\", \"department\": \"Art\", \"gender\": 0, \"id\": 1463296, \"job\": \"Assistant Art Director\", \"name\": \"Samantha Avila\"}, {\"credit_id\": \"55491bbfc3a36841bf0002b5\", \"department\": \"Crew\", \"gender\": 0, \"id\": 1463298, \"job\": \"Propmaker\", \"name\": \"Guy Belegaud\"}, {\"credit_id\": \"55491bcac3a36841b20002c6\", \"department\": \"Crew\", \"gender\": 0, \"id\": 1463299, \"job\": \"Propmaker\", \"name\": \"Mark Bialuski\"}, {\"credit_id\": \"55491bea92514104cd0002a7\", \"department\": \"Writing\", \"gender\": 0, \"id\": 1463300, \"job\": \"Storyboard\", \"name\": \"Timothy Burgard\"}, {\"credit_id\": \"55491bf8c3a36841b6000285\", \"department\": \"Art\", \"gender\": 0, \"id\": 1463301, \"job\": \"Greensman\", \"name\": \"Alvin S. Cabrinha Jr.\"}, {\"credit_id\": \"55491c6792514104ca000291\", \"department\": \"Writing\", \"gender\": 0, \"id\": 1463304, \"job\": \"Storyboard\", \"name\": \"Robert Consing\"}, {\"credit_id\": \"55491ccec3a36841a9000318\", \"department\": \"Crew\", \"gender\": 0, \"id\": 1463308, \"job\": \"Propmaker\", \"name\": \"Derek Devers\"}, {\"credit_id\": \"55491d5192514104b8000301\", \"department\": \"Visual Effects\", \"gender\": 0, \"id\": 1463310, \"job\": \"Modeling\", \"name\": \"Jeff Frost\"}, {\"credit_id\": \"55491d7b92514104c40002d0\", \"department\": \"Writing\", \"gender\": 0, \"id\": 1463313, \"job\": \"Storyboard\", \"name\": \"Collin Grant\"}, {\"credit_id\": \"55491f42c3a36841b9000351\", \"department\": \"Art\", \"gender\": 0, \"id\": 1463318, \"job\": \"Greensman\", \"name\": \"Mike Herriage\"}, {\"credit_id\": \"55491f62c3a36841b9000356\", \"department\": \"Art\", \"gender\": 0, \"id\": 1463320, \"job\": \"Art Department Assistant\", \"name\": \"Alana Hong\"}, {\"credit_id\": \"55491f89c3a36841c10002bd\", \"department\": \"Art\", \"gender\": 0, \"id\": 1463321, \"job\": \"Assistant Art Director\", \"name\": \"Ryan Shields Johnston\"}, {\"credit_id\": \"55491f95c3a36841ab0002f7\", \"department\": \"Costume & Make-Up\", \"gender\": 0, \"id\": 1463322, \"job\": \"Set Dressing Artist\", \"name\": \"Ty Jones Jr.\"}, {\"credit_id\": \"55491fb1c3a36841c10002cd\", \"department\": \"Writing\", \"gender\": 0, \"id\": 1463323, \"job\": \"Storyboard\", \"name\": \"Philip Keller\"}, {\"credit_id\": \"55492063c3a36841b900037b\", \"department\": \"Crew\", \"gender\": 0, \"id\": 1463329, \"job\": \"Propmaker\", \"name\": \"Paul Lindsey\"}, {\"credit_id\": \"5549208392514104c400030a\", \"department\": \"Art\", \"gender\": 0, \"id\": 1463331, \"job\": \"Set Decoration\", \"name\": \"Matt Lopac\"}, {\"credit_id\": \"55492083c3a36841b9000385\", \"department\": \"Art\", \"gender\": 0, \"id\": 1463330, \"job\": \"Set Decoration\", \"name\": \"Matt Lopac\"}, {\"credit_id\": \"554920bac3a36841a90003f4\", \"department\": \"Writing\", \"gender\": 0, \"id\": 1463332, \"job\": \"Storyboard\", \"name\": \"David Lowery\"}, {\"credit_id\": \"5549210892514104ba000367\", \"department\": \"Costume & Make-Up\", \"gender\": 0, \"id\": 1463334, \"job\": \"Set Dressing Artist\", \"name\": \"Vincent Luizzi\"}, {\"credit_id\": \"5549219a92514104ca0002ee\", \"department\": \"Art\", \"gender\": 0, \"id\": 1463338, \"job\": \"Greensman\", \"name\": \"William Nutt\"}, {\"credit_id\": \"554921a6c3a36841b60002e7\", \"department\": \"Art\", \"gender\": 0, \"id\": 1463339, \"job\": \"Greensman\", \"name\": \"William'Billy' Nutt\"}, {\"credit_id\": \"554921bac3a36841ab000334\", \"department\": \"Crew\", \"gender\": 0, \"id\": 1463340, \"job\": \"Prop Maker\", \"name\": \"Timothy Oakley\"}, {\"credit_id\": \"554921e992514104c4000323\", \"department\": \"Costume & Make-Up\", \"gender\": 0, \"id\": 1463343, \"job\": \"Set Dressing Artist\", \"name\": \"Paul Penley\"}, {\"credit_id\": \"5549223c92514104b8000371\", \"department\": \"Art\", \"gender\": 0, \"id\": 1463348, \"job\": \"Greensman\", \"name\": \"Christopher Ramirez\"}, {\"credit_id\": \"5549225292514104cd000344\", \"department\": \"Art\", \"gender\": 0, \"id\": 1463351, \"job\": \"Art Department Assistant\", \"name\": \"John Michael Riva Jr.\"}, {\"credit_id\": \"5549230e92514104cd000353\", \"department\": \"Art\", \"gender\": 0, \"id\": 1463360, \"job\": \"Art Department Coordinator\", \"name\": \"Joelle-Lyn Sarte\"}, {\"credit_id\": \"5549232fc3a36841c100031b\", \"department\": \"Art\", \"gender\": 0, \"id\": 1463362, \"job\": \"Greensman\", \"name\": \"Codie Scott\"}, {\"credit_id\": \"5549234b92514104ba0003c1\", \"department\": \"Crew\", \"gender\": 0, \"id\": 1463364, \"job\": \"Propmaker\", \"name\": \"Jeff Shewbert\"}, {\"credit_id\": \"5549237f92514104cd000367\", \"department\": \"Art\", \"gender\": 0, \"id\": 1463368, \"job\": \"Sculptor\", \"name\": \"Edward Skade\"}, {\"credit_id\": \"5549238892514104c000034c\", \"department\": \"Costume & Make-Up\", \"gender\": 0, \"id\": 1463369, \"job\": \"Set Dressing Artist\", \"name\": \"Meagan Skerchock\"}, {\"credit_id\": \"5549239592514104c4000350\", \"department\": \"Art\", \"gender\": 0, \"id\": 1463370, \"job\": \"Greensman\", \"name\": \"Spencer Smith\"}, {\"credit_id\": \"5549239ec3a36841af000376\", \"department\": \"Art\", \"gender\": 0, \"id\": 1463371, \"job\": \"Art Department Assistant\", \"name\": \"Karen Sori\"}, {\"credit_id\": \"554923aac3a36841bf000354\", \"department\": \"Art\", \"gender\": 0, \"id\": 1463372, \"job\": \"Set Designer\", \"name\": \"David Soukup\"}, {\"credit_id\": \"554923b492514104c4000358\", \"department\": \"Crew\", \"gender\": 0, \"id\": 1463373, \"job\": \"Propmaker\", \"name\": \"Christopher Stanback\"}, {\"credit_id\": \"554923bfc3a36841ab000356\", \"department\": \"Costume & Make-Up\", \"gender\": 0, \"id\": 1463374, \"job\": \"Set Dressing Artist\", \"name\": \"Sam Sternthall\"}, {\"credit_id\": \"554923cac3a36841b90003e3\", \"department\": \"Writing\", \"gender\": 0, \"id\": 1463375, \"job\": \"Storyboard\", \"name\": \"Dan Sweetman\"}, {\"credit_id\": \"554923d492514104cd000370\", \"department\": \"Art\", \"gender\": 0, \"id\": 1463376, \"job\": \"Greensman\", \"name\": \"Darrell Tachibana\"}, {\"credit_id\": \"554923de92514104c700035a\", \"department\": \"Costume & Make-Up\", \"gender\": 0, \"id\": 1463377, \"job\": \"Set Dressing Artist\", \"name\": \"John Tedlie\"}, {\"credit_id\": \"554923e892514104c7000362\", \"department\": \"Art\", \"gender\": 0, \"id\": 1463378, \"job\": \"Sculptor\", \"name\": \"Bruno Troadec\"}, {\"credit_id\": \"554923f292514104c7000368\", \"department\": \"Writing\", \"gender\": 0, \"id\": 1463379, \"job\": \"Storyboard\", \"name\": \"Amy Lynn Umezu\"}, {\"credit_id\": \"5549241192514104c0000357\", \"department\": \"Art\", \"gender\": 0, \"id\": 1463380, \"job\": \"Set Designer\", \"name\": \"Trinh Vu\"}, {\"credit_id\": \"5549242692514104ba0003db\", \"department\": \"Crew\", \"gender\": 0, \"id\": 1463381, \"job\": \"Propmaker\", \"name\": \"Kevin Whatley\"}, {\"credit_id\": \"55492449c3a36841b2000363\", \"department\": \"Costume &\u001b[0m\n\u001b[1;37m                                                                                                                                                                                                                                                                                                                                                                                                                                                                                                                                                                                                                                                                                                                                                                                                                                                                                                                                                                                                                                                                                                                                                                                                                                                                                                                                                                                                                                                                                                                                                                                                                                                                                                                                                                                                                                                                                                                                                                                                                                                                                                                                                                                                                                                                                                                                                                                                                                                                                                                                                                                                                                                                                                                                                                                                                                                                                                                                                                                                                                                                                                                                                                                                                                                                                                                                                                                                                                                                                                                                                                                                                                                                                                                                                                                                                                                                                                                                                                                                                                                                                                                                                                                                                                                                                                                                                                                                                                                                                                                                                                                                                                                                                                                                                                                                                                                                                                                                                                                                                                                                                                                                                                                                                                                                                                                                                                                                                                                                                                                                                                                                                                                                                                                                                                                                                                                                                                                                                                                                                                                                                                                                                                                                                                                                                                                                                                                                                                                                                                                                                                                                                                                                                                                                                                                                                                                                                                                                                                                                                                                                                                                                                                                                                                                                                                                                                                                                                                                                                                                                                                                                                                                                                                                                                                                                                                                                                                                                                                                                                                                                                                                                                                                                                                                                                                                                                                                                                                                                                                                                                                                                                                                                                                                                                                                                                                                                                                                                                                                                                                                                                                                                                                                                                                                                                                                                                                                                                                                                                                                                                                                                                                                                                                                                                                                                                                                                                                                                                                                                                                                                                                                                                                                                                                                                                                                                                                                                                                                                                                                                                                                                                                                                                                                                                                                                                                                                                                                                                                                                                                                                                                                                                                                                                                                                                                                                                                                                                                                                                                                                                                                                                                                                                                                                                                                                                                                                                                                                                                                                                                                                                                                                                                                                                                                                                                                                                                                                                                                                                                                                                                                                                                                                                                                                                                                                                                                                                                                                                                                                                                                                                                                                                                                                                                                                                                                                                                                                                                                                                                                                                                                                                                                                                                                                                                                                                                                                                                                                                                                                                                                                                                                                                                                                                                                                                                                                                                                                                                                                                                                                                                                                                                                                                                                                                                                                                                                                                                                                                                                                                                                                                                                                                                                                                                                                                                                                                                                                                                                                                                                                                                                                                                                                                                                                                                                                                                                                                                                                                                                                                                                                                                                                                                                                                                                                                                                                                                                                                                                                                                                                                                                                                                                                                                                                                                                                                                                                                                                                                                                                                                                                                                                                                                                                                                                                                                                                                                                                                                                                                                                                                                                                                                                                                                                                                                                                                                                                                                                                                                                                                                                                                                                                                                                                                                                                                                                                                                                                                                                                                                                                                                                                                                                                                                                                                                                                                                                                                                                                                                                                                                                                                                                                                                                                                                                                                                                                                                                                                                                                                                                                                                                                                                                                                                                                                                                                                                                                                                                                                                                                                                                                                                                                                                                                                                                                                                                                                                                                                                                                                                                                                                                                                                                                                                                                                                                                                                                                                                                                                                                                                                                                                                                                                                                                                                                                                                                                                                                                                                                                                                                                                                                                                                                                                                                                                                                                                                                                                                                                                                                                                                                                                                                                                                                                                                                                                                                                                                                                                                                                                                                                                                                                                                                                                                                                                                                                                                                                                                                                                                                                                                                                                                                                                                                                                                                                                                                                                                                                                                                                                                                                                                                                                                                                                                                                                                                                                                                                                                                                                                                                                                                                                                                                                                                                                                                                                                                                                                                                                                                                                                                                                                                                                                                                                                                                                                                                                                                                                                                                                                                                                                                                                                                                                                                                                                                                                                                                                                                                                                                                                                                                                                                                                                                                                                                                                                                                                                                                                                                                                                                                                                                                                                                                                                                                                                                                                                                                                                                                                                                                                                                                                                                                                                                                                                                                                                                                                                                                                                                                                                                                                                                                                                                                                                                                                                                                                                                                                                                                                                                                                                                                                                                                                                                                                                                                                                                                                                                                                                                                                                                                                                                                                                                                                                                                                                                                                                                                                                                                                                                                                                                                                                                                                                                                                                                                                                                                                                                                                                                                                                                                                                                                                                                                                                                                                                                                                                                                                                                                                                                                                                                                                                                                                                                                                                                                                                                                                                                                                                                                                                                                                                                                                                                                                                                                                                                                                                                                                                                                                                                                                                                                                                                                                                                                                                                                                                                                                                                                                                                                                                                                                                                                                                                                                                                                                                                                                                                                                                                                                                                                                                                                                                                                                                                                                                                                                                                                                                                                                                                                                                                                                                                                                                                                                                                                                                                                                                                                                                                                                                                                                                                                                                                                                                                                                                                                                                                                                                                                                                                                                                                                                                                                                                                                                                                                                                                                                                                                                                                                                                                                                                                                                                                                                                                                                                                                                                                                                                                                                                                                                                                                                                                                                                                ^\u001b[0m\n\u001b[1;31mSyntaxError\u001b[0m\u001b[1;31m:\u001b[0m unterminated string literal (detected at line 1)\n"
     ]
    }
   ],
   "source": [
    "movies['crew'].apply(fetch_director)"
   ]
  },
  {
   "cell_type": "code",
   "execution_count": null,
   "id": "b7adcc16-86ad-486d-9315-434861c3fcbf",
   "metadata": {},
   "outputs": [],
   "source": []
  }
 ],
 "metadata": {
  "kernelspec": {
   "display_name": "Python 3 (ipykernel)",
   "language": "python",
   "name": "python3"
  },
  "language_info": {
   "codemirror_mode": {
    "name": "ipython",
    "version": 3
   },
   "file_extension": ".py",
   "mimetype": "text/x-python",
   "name": "python",
   "nbconvert_exporter": "python",
   "pygments_lexer": "ipython3",
   "version": "3.11.1"
  }
 },
 "nbformat": 4,
 "nbformat_minor": 5
}
